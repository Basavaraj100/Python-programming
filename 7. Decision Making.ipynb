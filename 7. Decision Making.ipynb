{
 "cells": [
  {
   "cell_type": "markdown",
   "metadata": {},
   "source": [
    "# Condtional Statements"
   ]
  },
  {
   "cell_type": "markdown",
   "metadata": {},
   "source": [
    "### if – statement \n",
    "\n",
    "- The if statement is used in Python for decision making \n",
    "- It is written by using the if  keyword\n",
    "- The if keyword is followed by condition later followed by indented block of code which will be executed only if the condition is true\n"
   ]
  },
  {
   "cell_type": "markdown",
   "metadata": {},
   "source": [
    "##### Ex. WAP to print the number only if it is odd else do nothing!"
   ]
  },
  {
   "cell_type": "code",
   "execution_count": null,
   "metadata": {},
   "outputs": [],
   "source": []
  },
  {
   "cell_type": "markdown",
   "metadata": {},
   "source": [
    "##### Ex. WAP to print the number if it is less than 10."
   ]
  },
  {
   "cell_type": "code",
   "execution_count": null,
   "metadata": {},
   "outputs": [],
   "source": []
  },
  {
   "cell_type": "markdown",
   "metadata": {},
   "source": [
    "### if … else – statement \n",
    "- The ‘if … else’ statement evaluates a test expression and will execute: \n",
    "- the indented if block of code if the condition is True\n",
    "- the indented else block of code if the condition in the if statement is False"
   ]
  },
  {
   "cell_type": "markdown",
   "metadata": {},
   "source": [
    "##### Ex. WAP to check entered number is even or odd"
   ]
  },
  {
   "cell_type": "code",
   "execution_count": null,
   "metadata": {},
   "outputs": [],
   "source": []
  },
  {
   "cell_type": "markdown",
   "metadata": {},
   "source": [
    "### One liner if … else – statement "
   ]
  },
  {
   "cell_type": "markdown",
   "metadata": {},
   "source": [
    "##### Ex. WAP to check entered number is even or odd using one liner syntax"
   ]
  },
  {
   "cell_type": "code",
   "execution_count": null,
   "metadata": {},
   "outputs": [],
   "source": []
  },
  {
   "cell_type": "markdown",
   "metadata": {},
   "source": [
    "### Nested if … else – statement \n",
    "\n",
    "- Nesting means using an if  statement within another if or else statement\n",
    "- If the first ‘if’ condition is satisfied then the program executes the commands within that ‘if’\n"
   ]
  },
  {
   "cell_type": "markdown",
   "metadata": {},
   "source": [
    "##### Ex. Toss a coin and guess the outcome\n",
    "\n",
    "WAP to simulate coin toss and compare the outcome with guess made by user. The program must return \"Invalid input\" if user enters a wrong or invalid value as a guess."
   ]
  },
  {
   "cell_type": "code",
   "execution_count": 10,
   "metadata": {},
   "outputs": [
    {
     "name": "stdout",
     "output_type": "stream",
     "text": [
      "Enter your guesshead\n",
      "Wrong guess\n"
     ]
    }
   ],
   "source": [
    "import random as r\n",
    "act=r.choice(['Head','Tail'])\n",
    "user=input('Enter your guess').title()\n",
    "res='You won' if user==act  else 'Wrong guess'\n",
    "print(res)\n"
   ]
  },
  {
   "cell_type": "markdown",
   "metadata": {},
   "source": [
    "### random module in Python\n",
    "\n",
    "- Generates a random value\n",
    "- Importing random module <br>\n",
    "   **import random as r**\n",
    "\n",
    "- Frequently used functions \n",
    "\n",
    "    - **r.random()**    – Generates a random float number between 0.0 to 1.0 \n",
    "    - **r.randint()**   – Returns a random integer between the specified integers\n",
    "    - **r.randrange()** – Returns a randomly selected element from the range created by the start, stop \t\t    and step arguments\n",
    "    - **r.choice()**    – Returns a randomly selected element from a non-empty sequence\n",
    "    - **r.shuffle()**   – This functions randomly reorders the elements in a list\n"
   ]
  },
  {
   "cell_type": "code",
   "execution_count": 21,
   "metadata": {},
   "outputs": [
    {
     "data": {
      "text/plain": [
       "6"
      ]
     },
     "execution_count": 21,
     "metadata": {},
     "output_type": "execute_result"
    }
   ],
   "source": [
    "r.random()\n",
    "r.randint(a=5,b=7)"
   ]
  },
  {
   "cell_type": "markdown",
   "metadata": {},
   "source": [
    "##### Ex. WAP to check if the number is positive number. If yes then check if it is divisible by 5."
   ]
  },
  {
   "cell_type": "code",
   "execution_count": null,
   "metadata": {},
   "outputs": [],
   "source": []
  },
  {
   "cell_type": "code",
   "execution_count": null,
   "metadata": {},
   "outputs": [],
   "source": []
  },
  {
   "cell_type": "markdown",
   "metadata": {},
   "source": [
    "### if … elif … else – statement \n",
    "\n",
    "- elif statement is used to control multiple conditions only if the given if condition false\n",
    "- It is also called as else - if ladder"
   ]
  },
  {
   "cell_type": "markdown",
   "metadata": {},
   "source": [
    "##### Ex. 7up and 7down\n",
    "\n",
    "WAP to simulate the below mentioned scenario -\n",
    "\n",
    "1. Player enters the game with initial amount as Rs. 1,000/- \n",
    "2. Generate a random value between 1 to 14 and store it in variable \"outcome\"\n",
    "3. if outcome = 7, player hits a jackpot and wins Rs. 1,00,00,000.\n",
    "4. if outcome < 7, player looses amount by (outcome*100)\n",
    "5. if outcome > 7, player earns amount by (outcome*100)\n",
    "6. Print the final amount with the player."
   ]
  },
  {
   "cell_type": "code",
   "execution_count": 26,
   "metadata": {},
   "outputs": [
    {
     "name": "stdout",
     "output_type": "stream",
     "text": [
      "4\n"
     ]
    },
    {
     "data": {
      "text/plain": [
       "600"
      ]
     },
     "execution_count": 26,
     "metadata": {},
     "output_type": "execute_result"
    }
   ],
   "source": [
    "amount=1000\n",
    "# user_guess=int(input())\n",
    "act=r.randint(1,14)\n",
    "print(act)\n",
    "if act==7:\n",
    "    amount+=10000000\n",
    "elif act>7:\n",
    "    amount+=act*100\n",
    "else:\n",
    "    amount-=act*100\n",
    "    \n",
    "amount"
   ]
  },
  {
   "cell_type": "markdown",
   "metadata": {},
   "source": [
    "<h3 style = \"color:green\">Additional Examples - </h3>"
   ]
  },
  {
   "cell_type": "markdown",
   "metadata": {},
   "source": [
    "##### Ex. WAP to accept 3 numbers from user and print the largest number."
   ]
  },
  {
   "cell_type": "code",
   "execution_count": 28,
   "metadata": {},
   "outputs": [
    {
     "name": "stdout",
     "output_type": "stream",
     "text": [
      "1 2 37 9 6\n",
      "37\n"
     ]
    }
   ],
   "source": [
    "print(max(map(int,input().split())))"
   ]
  },
  {
   "cell_type": "markdown",
   "metadata": {},
   "source": [
    "##### Ex. WAP to accept hours and rate per hour from user and compute gross pay. Pay the hourly rate for the hours up to 40 and 1.5 times the hourly rate for all hours worked above 40 hours."
   ]
  },
  {
   "cell_type": "code",
   "execution_count": 32,
   "metadata": {},
   "outputs": [
    {
     "name": "stdout",
     "output_type": "stream",
     "text": [
      "Enter hours: 50\n",
      "Enter rate per hour: 10\n",
      "550.0\n"
     ]
    }
   ],
   "source": [
    "hours=float(input('Enter hours: '))\n",
    "rate=float(input('Enter rate per hour: '))\n",
    "if hours<=40:\n",
    "    print(hours*rate)\n",
    "else:\n",
    "    print((rate*40)+((hours-40)*rate*1.5))"
   ]
  },
  {
   "cell_type": "markdown",
   "metadata": {},
   "source": [
    "##### Ex. WAP to accept a single character from user and check if it is a vowel or not."
   ]
  },
  {
   "cell_type": "code",
   "execution_count": 34,
   "metadata": {},
   "outputs": [
    {
     "name": "stdout",
     "output_type": "stream",
     "text": [
      "p\n"
     ]
    },
    {
     "data": {
      "text/plain": [
       "'No'"
      ]
     },
     "execution_count": 34,
     "metadata": {},
     "output_type": "execute_result"
    }
   ],
   "source": [
    "user=input()\n",
    "'yes' if user.lower() in 'aeiou' else 'No'"
   ]
  },
  {
   "cell_type": "code",
   "execution_count": null,
   "metadata": {},
   "outputs": [],
   "source": []
  }
 ],
 "metadata": {
  "kernelspec": {
   "display_name": "Python 3",
   "language": "python",
   "name": "python3"
  },
  "language_info": {
   "codemirror_mode": {
    "name": "ipython",
    "version": 3
   },
   "file_extension": ".py",
   "mimetype": "text/x-python",
   "name": "python",
   "nbconvert_exporter": "python",
   "pygments_lexer": "ipython3",
   "version": "3.8.3"
  }
 },
 "nbformat": 4,
 "nbformat_minor": 2
}
