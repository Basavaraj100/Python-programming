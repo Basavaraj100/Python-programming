{
 "cells": [
  {
   "cell_type": "markdown",
   "metadata": {},
   "source": [
    "## Lambda Function\n",
    "\n",
    "- A lambda function is also called as an anonymous function as it is a function that is defined without a name. \n",
    "- A lambda function behaves similar to a standard function except it is defined in one-line. \n",
    "- It is defined using a lambda key-word. \n",
    "- Lambda functions can have any number of arguments but only one expression. The expression is evaluated and returned. \n",
    "- Lambda functions can be used wherever function objects are required. \n",
    "- Syntax of Lambda Function – \n",
    "\n",
    "  <b>lambda *parameters* : *expression*</b>\n"
   ]
  },
  {
   "cell_type": "markdown",
   "metadata": {},
   "source": [
    "##### WALF to return addition of 2 numbers"
   ]
  },
  {
   "cell_type": "code",
   "execution_count": 4,
   "metadata": {},
   "outputs": [
    {
     "data": {
      "text/plain": [
       "5"
      ]
     },
     "execution_count": 4,
     "metadata": {},
     "output_type": "execute_result"
    }
   ],
   "source": [
    "add=lambda x,y:x+y\n",
    "add(2,3)"
   ]
  },
  {
   "cell_type": "markdown",
   "metadata": {},
   "source": [
    "##### WALF to check a number is even or odd"
   ]
  },
  {
   "cell_type": "code",
   "execution_count": 5,
   "metadata": {},
   "outputs": [
    {
     "data": {
      "text/plain": [
       "'Odd'"
      ]
     },
     "execution_count": 5,
     "metadata": {},
     "output_type": "execute_result"
    }
   ],
   "source": [
    "odd_even=lambda x:'Even' if x%2==0 else 'Odd'\n",
    "odd_even(5)"
   ]
  },
  {
   "cell_type": "markdown",
   "metadata": {},
   "source": [
    "##### WALF to accept a list of strings as parameter and return the length of each string element from the list"
   ]
  },
  {
   "cell_type": "code",
   "execution_count": 8,
   "metadata": {},
   "outputs": [
    {
     "data": {
      "text/plain": [
       "[3, 4, 7]"
      ]
     },
     "execution_count": 8,
     "metadata": {},
     "output_type": "execute_result"
    }
   ],
   "source": [
    "list_len=lambda x: [len(i) for i in x]\n",
    "list_len(['car','bike','scooter'])"
   ]
  },
  {
   "cell_type": "code",
   "execution_count": 10,
   "metadata": {},
   "outputs": [
    {
     "data": {
      "text/plain": [
       "[3, 4, 7]"
      ]
     },
     "execution_count": 10,
     "metadata": {},
     "output_type": "execute_result"
    }
   ],
   "source": [
    "m=['car','bike','scooter']\n",
    "ans=list(map(len,m))\n",
    "ans"
   ]
  },
  {
   "cell_type": "markdown",
   "metadata": {},
   "source": [
    "### Applilcations of Lambda Function"
   ]
  },
  {
   "cell_type": "markdown",
   "metadata": {},
   "source": [
    "##### Ex. WAP to sort a list of strings as per the last character."
   ]
  },
  {
   "cell_type": "code",
   "execution_count": 12,
   "metadata": {},
   "outputs": [
    {
     "data": {
      "text/plain": [
       "['bike', 'car', 'scooter']"
      ]
     },
     "execution_count": 12,
     "metadata": {},
     "output_type": "execute_result"
    }
   ],
   "source": [
    "m=['car','bike','scooter']\n",
    "sorted(m,key=lambda x:x[-1])"
   ]
  },
  {
   "cell_type": "markdown",
   "metadata": {},
   "source": [
    "##### Ex. WAP to display the student details in sorted order of their marks."
   ]
  },
  {
   "cell_type": "code",
   "execution_count": 17,
   "metadata": {},
   "outputs": [
    {
     "data": {
      "text/plain": [
       "['Jane', 'Sam', 'Max', 'Mary']"
      ]
     },
     "execution_count": 17,
     "metadata": {},
     "output_type": "execute_result"
    }
   ],
   "source": [
    "students = {\"Jane\" : 40, \"Max\" : 50, \"Sam\" : 45, \"Mary\" : 70}\n",
    "sorted(students,key= students.get)"
   ]
  },
  {
   "cell_type": "code",
   "execution_count": 27,
   "metadata": {},
   "outputs": [
    {
     "data": {
      "text/plain": [
       "['Jane', 'Sam', 'Max', 'Mary']"
      ]
     },
     "execution_count": 27,
     "metadata": {},
     "output_type": "execute_result"
    }
   ],
   "source": [
    "sorted(students,key= lambda x:students[x])   # wyy cant d.values?"
   ]
  },
  {
   "cell_type": "markdown",
   "metadata": {},
   "source": [
    "##### Ex. WAP to print total sales."
   ]
  },
  {
   "cell_type": "code",
   "execution_count": 39,
   "metadata": {},
   "outputs": [
    {
     "data": {
      "text/plain": [
       "10870"
      ]
     },
     "execution_count": 39,
     "metadata": {},
     "output_type": "execute_result"
    }
   ],
   "source": [
    "sales = [\"$1,000\", \"$580\", \"$9,000\", \"$290\"]\n",
    "# list(map(str,list(map(lambda x: x.strip('$' or ','),sales))))\n",
    "\n",
    "\n",
    "sum([int( i.strip('$').replace(',','')) for i in sales])"
   ]
  },
  {
   "cell_type": "code",
   "execution_count": 29,
   "metadata": {},
   "outputs": [
    {
     "data": {
      "text/plain": [
       "['1,000', '580', '9,000', '290']"
      ]
     },
     "execution_count": 29,
     "metadata": {},
     "output_type": "execute_result"
    }
   ],
   "source": [
    "sales = [\"$1,000\", \"$580\", \"$9,000\", \"$290\"]\n",
    "list(map(str,list(map(lambda x: x.strip('$' ),sales))))"
   ]
  },
  {
   "cell_type": "code",
   "execution_count": 36,
   "metadata": {},
   "outputs": [
    {
     "data": {
      "text/plain": [
       "False"
      ]
     },
     "execution_count": 36,
     "metadata": {},
     "output_type": "execute_result"
    }
   ],
   "source": [
    "a='1.000'\n",
    "a.isdigit()"
   ]
  },
  {
   "cell_type": "markdown",
   "metadata": {},
   "source": [
    "#### map(func_obj, sequence)\n",
    "- func_obj : It is a function object to which map passes each element of given sequence.\n",
    "- sequence : It is a sequence which is to be mapped.\n",
    "- Returns  a sequence of the results after applying the given function\u000b",
    "to each item of a given iterable.\n"
   ]
  },
  {
   "cell_type": "markdown",
   "metadata": {},
   "source": [
    "##### Ex. WAP to map the given list to list of squares"
   ]
  },
  {
   "cell_type": "code",
   "execution_count": 58,
   "metadata": {},
   "outputs": [
    {
     "name": "stdout",
     "output_type": "stream",
     "text": [
      "[1, 9, 4, 36, 49, 81]\n"
     ]
    },
    {
     "data": {
      "text/plain": [
       "[1, 3, 2, 6, 7, 9]"
      ]
     },
     "execution_count": 58,
     "metadata": {},
     "output_type": "execute_result"
    }
   ],
   "source": [
    "l = [1, 3, 2, 6, 7, 9]\n",
    "\n",
    "k=list(map(lambda x:x**2,l))\n",
    "print(k)\n",
    "k_=list(map(lambda x:int(x**0.5),k))\n",
    "k_"
   ]
  },
  {
   "cell_type": "markdown",
   "metadata": {},
   "source": [
    "#### filter(func_obj, sequence)\n",
    "- func_obj : function that tests if each element of a sequence true or not. It should always be a Boolean function.\n",
    "- sequence : It is a sequence which is to be filtered.\n",
    "- Returns a sequence of filtered elements.\n"
   ]
  },
  {
   "cell_type": "markdown",
   "metadata": {},
   "source": [
    "##### Ex. WAP to filter all the even numbers from the given list of numbers."
   ]
  },
  {
   "cell_type": "code",
   "execution_count": 55,
   "metadata": {},
   "outputs": [
    {
     "name": "stdout",
     "output_type": "stream",
     "text": [
      "[2, 8, 6]\n"
     ]
    }
   ],
   "source": [
    "l=[1,2,5,7,8,9,5,6]\n",
    "m=list(filter(lambda x:x%2==0,l))\n",
    "print(m)"
   ]
  },
  {
   "cell_type": "code",
   "execution_count": 54,
   "metadata": {},
   "outputs": [
    {
     "data": {
      "text/plain": [
       "[1000, 580, 9000, 290]"
      ]
     },
     "execution_count": 54,
     "metadata": {},
     "output_type": "execute_result"
    }
   ],
   "source": [
    "l = [\"$1,000\", \"$580\", \"$9,000\", \"$290\"]\n",
    "# list(filter(lambda x:x%2==0,l))\n",
    "# list(map (lambda x:int(x.strip('$').replace(',',''),l)\n",
    "          \n",
    "list(map(lambda x:int(x.strip('$').replace(',','')),l))"
   ]
  },
  {
   "cell_type": "code",
   "execution_count": 74,
   "metadata": {},
   "outputs": [
    {
     "name": "stdout",
     "output_type": "stream",
     "text": [
      "[1, 5, 5, 3, 6, 4, 1, 4, 3]\n",
      "['A', 'fox', 'over', 'a', 'lazy', 'dog']\n",
      "{'A': 1, 'quick': 5, 'brown': 5, 'fox': 3, 'jumped': 6, 'over': 4, 'a': 1, 'lazy': 4, 'dog': 3}\n",
      "{'A': 'A', 'quick': 'fox', 'brown': 'over', 'fox': 'a', 'jumped': 'lazy', 'over': 'dog'}\n"
     ]
    }
   ],
   "source": [
    "string = \"A quick brown fox jumped over a lazy dog\"\n",
    "# Q1)len of each word\n",
    "{i:len(i) for i in string.split() }\n",
    "print(list(map(lambda x:len(x),string.split())))  # return len of each word in string\n",
    "print(list(filter(lambda x:len(x)<=4,string.split())))\n",
    "# dict(enumerate(map(lambda x:len(x), string.split()), start = 1))\n",
    "# dict(enumerate(filter(lambda x : len(x) <= 4, string.split()), start = 1))\n",
    "\n",
    "print(dict(zip(string.split(\" \"),(map(lambda x : len(x),string.split(\" \"))))))\n",
    "print(dict(zip(string.split(),(filter(lambda x:len(x)<=4,string.split())))))\n",
    "\n"
   ]
  },
  {
   "cell_type": "code",
   "execution_count": 88,
   "metadata": {},
   "outputs": [
    {
     "name": "stdout",
     "output_type": "stream",
     "text": [
      "{'A': 1, 'quick': 5, 'brown': 5, 'fox': 3, 'jumped': 6, 'over': 4, 'a': 1, 'lazy': 4, 'dog': 3}\n"
     ]
    }
   ],
   "source": [
    "a=dict(list(map(lambda x:(x,len(x)),string.split())))\n",
    "print(a)"
   ]
  },
  {
   "cell_type": "code",
   "execution_count": null,
   "metadata": {},
   "outputs": [],
   "source": []
  },
  {
   "cell_type": "markdown",
   "metadata": {},
   "source": [
    "- The reduce(func_obj, seq) function is used to apply a particular function passed in its argument to all of the list elements mentioned in the sequence passed along. This function is defined in “functools” module. <br>\n",
    "<b style = \"color : Red\">Note: func_obj will always take two parameters</b>\n",
    "\n",
    "Working : \n",
    "- At first step, first two elements of sequence are picked and the result is obtained.\n",
    "- Next step is to apply the same function to the previously attained result and\u000b",
    "the number just succeeding the second element and the result is again stored.\n",
    "- This process continues till no more elements are left in the container.\n",
    "- The final returned result is returned and printed on console.\n"
   ]
  },
  {
   "cell_type": "markdown",
   "metadata": {},
   "source": [
    "##### Ex. Reduce the list to summation of all numbers"
   ]
  },
  {
   "cell_type": "code",
   "execution_count": null,
   "metadata": {},
   "outputs": [],
   "source": [
    "from functools import reduce\n",
    "\n",
    "l = [1, 3, 2, 6, 7, 9]\n"
   ]
  },
  {
   "cell_type": "markdown",
   "metadata": {},
   "source": [
    "##### Ex. WAP to create a list of last names from the people list using map()"
   ]
  },
  {
   "cell_type": "code",
   "execution_count": 60,
   "metadata": {},
   "outputs": [
    {
     "data": {
      "text/plain": [
       "['Brooks', 'Collins-Thompson', 'Vydiswaran', 'Romero']"
      ]
     },
     "execution_count": 60,
     "metadata": {},
     "output_type": "execute_result"
    }
   ],
   "source": [
    "people = ['Dr. Christopher Brooks', 'Dr. Kevyn Collins-Thompson', 'Dr. VG Vinod Vydiswaran', 'Dr. Daniel Romero']\n",
    "list(map(lambda x:x.split()[-1],people))"
   ]
  },
  {
   "cell_type": "markdown",
   "metadata": {},
   "source": [
    "##### Ex. WAP to filter all int elements from the list.\n",
    "l = [1,'abc', 'India', 45, 32]"
   ]
  },
  {
   "cell_type": "code",
   "execution_count": 61,
   "metadata": {},
   "outputs": [
    {
     "data": {
      "text/plain": [
       "[1, 45, 32, 0]"
      ]
     },
     "execution_count": 61,
     "metadata": {},
     "output_type": "execute_result"
    }
   ],
   "source": [
    "l = [1,'abc', 'India', 45, 32, 0]\n",
    "\n",
    "list(filter(lambda x:type(x)==int,l))\n"
   ]
  },
  {
   "cell_type": "markdown",
   "metadata": {},
   "source": [
    "##### Ex. Write a Python program to count the occurrences of each alphabet in a given sentence."
   ]
  },
  {
   "cell_type": "code",
   "execution_count": 93,
   "metadata": {},
   "outputs": [
    {
     "data": {
      "text/plain": [
       "[('i', 1),\n",
       " ('n', 1),\n",
       " ('y', 1),\n",
       " ('c', 1),\n",
       " ('v', 1),\n",
       " ('H', 1),\n",
       " (' ', 3),\n",
       " ('a', 3),\n",
       " ('d', 1),\n",
       " ('e', 2)]"
      ]
     },
     "execution_count": 93,
     "metadata": {},
     "output_type": "execute_result"
    }
   ],
   "source": [
    "from functools import reduce\n",
    "sent = \"Have a nice day\"\n",
    "list(map(lambda x:(x,sent.count(x)),list(set(sent))))"
   ]
  },
  {
   "cell_type": "markdown",
   "metadata": {},
   "source": [
    "##### Ex. Using reduce, calculate product of first n natural numbers"
   ]
  },
  {
   "cell_type": "code",
   "execution_count": 95,
   "metadata": {},
   "outputs": [
    {
     "data": {
      "text/plain": [
       "120"
      ]
     },
     "execution_count": 95,
     "metadata": {},
     "output_type": "execute_result"
    }
   ],
   "source": [
    "n = 5\n",
    "reduce(lambda x,y:x*y ,list(range(1,n+1)))\n"
   ]
  },
  {
   "cell_type": "code",
   "execution_count": null,
   "metadata": {},
   "outputs": [],
   "source": []
  }
 ],
 "metadata": {
  "kernelspec": {
   "display_name": "Python 3",
   "language": "python",
   "name": "python3"
  },
  "language_info": {
   "codemirror_mode": {
    "name": "ipython",
    "version": 3
   },
   "file_extension": ".py",
   "mimetype": "text/x-python",
   "name": "python",
   "nbconvert_exporter": "python",
   "pygments_lexer": "ipython3",
   "version": "3.8.3"
  }
 },
 "nbformat": 4,
 "nbformat_minor": 2
}
