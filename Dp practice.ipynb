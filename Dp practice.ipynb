{
 "cells": [
  {
   "cell_type": "markdown",
   "metadata": {},
   "source": [
    "# <font color=red> Dynamic progrmming practice<fonts/>"
   ]
  },
  {
   "cell_type": "markdown",
   "metadata": {},
   "source": [
    "# 0/1 knapsack    "
   ]
  },
  {
   "cell_type": "code",
   "execution_count": 4,
   "metadata": {},
   "outputs": [
    {
     "name": "stdout",
     "output_type": "stream",
     "text": [
      "23\n",
      "23\n"
     ]
    }
   ],
   "source": [
    "n=5\n",
    "wt=[2,3,5,7,10]\n",
    "val=[5,8,10,12,13]\n",
    "w=10\n",
    "                                               #recursive code of knapsack problem \n",
    "def knapsack(wt,val,w,n):\n",
    "    if n==0 or w==0:\n",
    "        return 0\n",
    "    elif wt[n-1]<=w:\n",
    "        return max(val[n-1]+knapsack(wt,val,w-wt[n-1],n-1),knapsack(wt,val,w,n-1))\n",
    "    else:\n",
    "        return knapsack(wt,val,w,n-1)\n",
    "\n",
    "\n",
    "\n",
    "\n",
    "print(knapsack(wt,val,w,n))\n",
    "\n",
    "# -----------------non recursive solution--------------------------------\n",
    "def knapsack_nc(wt,val,w,n):\n",
    "    t=[[0 for j in range(w+1)] for i in range(n+1)]\n",
    "    for i in range(n+1):\n",
    "        for j in range(w+1):\n",
    "            if i==0 or j==0:\n",
    "                t[i][j]=0\n",
    "            elif wt[i-1]>j:\n",
    "                t[i][j]=t[i-1][j]\n",
    "            else:\n",
    "                t[i][j]=max(val[i-1]+t[i-1][j-wt[i-1]],t[i-1][j])\n",
    "    return t[n][w]\n",
    "print(knapsack_nc(wt,val,w,n))"
   ]
  },
  {
   "cell_type": "markdown",
   "metadata": {},
   "source": [
    "### Q1)subset sum\n",
    "> **Problem statment:** Given an array if sum of any elements in array equals given number return True else return False"
   ]
  },
  {
   "cell_type": "code",
   "execution_count": 3,
   "metadata": {},
   "outputs": [
    {
     "name": "stdout",
     "output_type": "stream",
     "text": [
      "False\n",
      "False\n"
     ]
    }
   ],
   "source": [
    "n=4\n",
    "arr=[1,4,6,8]\n",
    "num=20\n",
    "def subset_sum(num,arr,n):\n",
    "    t=[[0 for j in range(num+1)] for i in range(n+1)]\n",
    "    for i in range(n+1):\n",
    "        for j in range(num+1):\n",
    "            if j==0:\n",
    "                t[i][j]=1\n",
    "            elif i==0 and j>0:\n",
    "                t[i][j]=0\n",
    "            elif arr[i-1]>j:\n",
    "                t[i][j]=t[i-1][j]\n",
    "            else:\n",
    "                t[i][j]=t[i-1][j]  |  t[i-1][j-arr[i-1]]\n",
    "                \n",
    "    return bool(t[n][num])\n",
    "        \n",
    "print(subset_sum(num,arr,n))\n",
    "\n",
    "\n",
    "# --------------------------recursive approach------------------------------\n",
    "def subset_sum_rec(num,arr,n):\n",
    "    if num==0:\n",
    "        return True\n",
    "    elif num>0 and n==0:\n",
    "        return False\n",
    "    elif arr[n-1]>num:\n",
    "        return subset_sum_rec(num,arr,n-1)\n",
    "    else:\n",
    "        return subset_sum_rec(num-arr[n-1],arr,n-1) |subset_sum_rec(num,arr,n-1)\n",
    "print(subset_sum_rec(num,arr,n))"
   ]
  },
  {
   "cell_type": "markdown",
   "metadata": {},
   "source": [
    "### Q2)Equal sum partition\n",
    ">Given an array check whether we can divide the array int two parts such that sum of each part should equl to half of sum of array\n",
    "\n",
    "**Hint:** same as equal sum partition but difference is here num=sum(arr)//2"
   ]
  },
  {
   "cell_type": "code",
   "execution_count": 6,
   "metadata": {},
   "outputs": [
    {
     "name": "stdout",
     "output_type": "stream",
     "text": [
      "False\n"
     ]
    }
   ],
   "source": [
    "n=4\n",
    "arr=[1,4,6,8]\n",
    "# print(sum(arr))\n",
    "num=sum(arr)//2\n",
    "# print(num)\n",
    "def equal_sum_partition(num,arr,n):\n",
    "    if num!=sum(arr)/2:\n",
    "        return False\n",
    "    else:\n",
    "    \n",
    "        t=[[0 for j in range(num+1)] for i in range(n+1)]\n",
    "        for i in range(n+1):\n",
    "            for j in range(num+1):\n",
    "                if j==0:\n",
    "                    t[i][j]=1\n",
    "                elif i==0 and j>0:\n",
    "                    t[i][j]=0\n",
    "                elif arr[i-1]>j:\n",
    "                    t[i][j]=t[i-1][j]\n",
    "                else:\n",
    "                    t[i][j]=t[i-1][j]  |  t[i-1][j-arr[i-1]]\n",
    "                \n",
    "        return bool(t[n][num])\n",
    "        \n",
    "print(equal_sum_partition(num,arr,n))\n",
    "\n",
    "\n",
    "\n"
   ]
  },
  {
   "cell_type": "markdown",
   "metadata": {},
   "source": [
    "### Q3)count of subset sum with given number\n",
    ">Given an array by how many ways u can get the given integer by summing up of different array element"
   ]
  },
  {
   "cell_type": "code",
   "execution_count": 7,
   "metadata": {},
   "outputs": [
    {
     "name": "stdout",
     "output_type": "stream",
     "text": [
      "2\n"
     ]
    }
   ],
   "source": [
    "n=5\n",
    "arr=[1,2,4,5,6]\n",
    "sm=9\n",
    "\n",
    "def count_subset_sum(n,arr,sm):\n",
    "    t=[[0 for j in range(sm+1)] for i in range(n+1)]\n",
    "    for i in range(n+1):\n",
    "        for j in range(sm+1):\n",
    "            if j==0:\n",
    "                t[i][j]=1\n",
    "            elif i==0 and j>0:\n",
    "                t[i][j]=0\n",
    "            elif arr[i-1]>j:\n",
    "                t[i][j]=t[i-1][j]\n",
    "            else:\n",
    "                t[i][j]=t[i-1][j] + t[i-1][j-arr[i-1]]\n",
    "                \n",
    "    return t[n][sm]\n",
    "\n",
    "print(count_subset_sum(n,arr,sm))"
   ]
  },
  {
   "cell_type": "markdown",
   "metadata": {},
   "source": [
    "### Q4)minimum subset sum difference\n",
    "> Given an array giver the array in two such that difference of sums of two sub arryas must be minimum"
   ]
  },
  {
   "cell_type": "code",
   "execution_count": 9,
   "metadata": {},
   "outputs": [
    {
     "name": "stdout",
     "output_type": "stream",
     "text": [
      "4\n"
     ]
    }
   ],
   "source": [
    "n=3\n",
    "arr=[1,2,7]\n",
    "\n",
    "def min_subset_sum_difference(n,arr):\n",
    "    sm=sum(arr)\n",
    "    t=[[0 for j in range(sm+1)] for i in range(n+1)]\n",
    "    for i in range(n+1):\n",
    "        for j in range(sm+1):\n",
    "            if j==0:\n",
    "                t[i][j]=1\n",
    "            elif i==0 and j>0:\n",
    "                t[i][j]=0\n",
    "            elif arr[i-1]>j:\n",
    "                t[i][j]=t[i-1][j]\n",
    "            else:\n",
    "                t[i][j]=t[i-1][j] | t[i-1][j-arr[i-1]]\n",
    "                \n",
    "#     print(t)\n",
    "            \n",
    "    an=t[n][:(sm//2)+1]\n",
    "#     print(an)\n",
    "    \n",
    "    ans=[k if an[k]==1 else 0 for k in range(0,(sm//2)+1)]\n",
    "#     print(ans)\n",
    "    f_ans=[sum(arr)-2*i for i in ans]\n",
    "#     print(f_ans)\n",
    "    return min(f_ans)\n",
    "            \n",
    "print(min_subset_sum_difference(n,arr))       "
   ]
  },
  {
   "cell_type": "markdown",
   "metadata": {},
   "source": [
    "#### Q5)count the number of subsets with given difference\n",
    ">Given an array u need to return by how many ways u can get given difference of two subset as given number\n",
    "\n",
    "> Trick:<br> \n",
    "s1+s2=range<br>\n",
    "s1-s2=diff<br>\n",
    "--------<br>\n",
    "2s1=range+diff<br>\n",
    "s1=(range+diff)/2<br>"
   ]
  },
  {
   "cell_type": "code",
   "execution_count": 10,
   "metadata": {},
   "outputs": [
    {
     "name": "stdout",
     "output_type": "stream",
     "text": [
      "1\n"
     ]
    }
   ],
   "source": [
    "\n",
    "n=3\n",
    "arr=[1,2,7]\n",
    "diff=9\n",
    "\n",
    "sm=(diff+sum(arr))//2                                       # problem reduced to count of subset sum\n",
    "def count_subset_sum_diff(n,arr,diff):\n",
    "    sm=(diff+sum(arr))//2\n",
    "    t=[[0 for j in range(sm+1)] for i in range(n+1)]\n",
    "    for i in range(n+1):\n",
    "        for j in range(sm+1):\n",
    "            if j==0:\n",
    "                t[i][j]=1\n",
    "            elif i==0 and j>0:\n",
    "                t[i][j]=0\n",
    "            elif arr[i-1]>j:\n",
    "                t[i][j]=t[i-1][j]\n",
    "            else:\n",
    "                t[i][j]=t[i-1][j] + t[i-1][j-arr[i-1]]\n",
    "                \n",
    "    return t[n][sm]\n",
    "\n",
    "\n",
    "print(count_subset_sum_diff(n,arr,diff))\n",
    "    \n",
    "    \n"
   ]
  },
  {
   "cell_type": "markdown",
   "metadata": {},
   "source": [
    "### Q6) Target sum\n",
    ">given an array and sm by assigning +/- before each elemnt of array after summing it ans should be sm\n",
    "  by how many times we can achive this?\n",
    "  \n",
    ">Trick<br>\n",
    "it is nothing but count the number of subset with given difference"
   ]
  },
  {
   "cell_type": "code",
   "execution_count": 11,
   "metadata": {},
   "outputs": [
    {
     "name": "stdout",
     "output_type": "stream",
     "text": [
      "2\n"
     ]
    }
   ],
   "source": [
    "n=5\n",
    "arr=[1,2,4,5,6]\n",
    "diff=9\n",
    "\n",
    "\n",
    "def target_sum(n,arr,diff):\n",
    "    sm=(diff+sum(arr))//2\n",
    "    t=[[0 for j in range(sm+1)] for i in range(n+1)]\n",
    "    for i in range(n+1):\n",
    "        for j in range(sm+1):\n",
    "            if j==0:\n",
    "                t[i][j]=1\n",
    "            elif i==0 and j>0:\n",
    "                t[i][j]=0\n",
    "            elif arr[i-1]>j:\n",
    "                t[i][j]=t[i-1][j]\n",
    "            else:\n",
    "                t[i][j]=t[i-1][j] + t[i-1][j-arr[i-1]]\n",
    "                \n",
    "    return t[n][sm]\n",
    "\n",
    "\n",
    "\n",
    "print(target_sum(n,arr,diff))\n"
   ]
  },
  {
   "cell_type": "markdown",
   "metadata": {},
   "source": [
    "## <font color=red>unbound knapsack<fonts/>"
   ]
  },
  {
   "cell_type": "markdown",
   "metadata": {},
   "source": [
    "#### Q7)Rod cutting problem\n",
    ">Given lenght of rod and possible cuts and corresponding values u need to return what are the cuts u r going to to do to get max profit\n"
   ]
  },
  {
   "cell_type": "code",
   "execution_count": 12,
   "metadata": {},
   "outputs": [
    {
     "name": "stdout",
     "output_type": "stream",
     "text": [
      "16\n",
      "16\n"
     ]
    }
   ],
   "source": [
    "L=8\n",
    "cut=[1,2,3,4,5,6,7,]\n",
    "price=[2,3,4,5,6,7,8]\n",
    "def rod_cutting(L,cut,price):\n",
    "    t=[[0 for j in range(L+1)] for i in range(len(cut)+1)]\n",
    "    for i in range(len(cut)+1):\n",
    "        for j in range(L+1):\n",
    "            if i==0  or j==0:\n",
    "                t[i][j]=0\n",
    "            elif cut[i-1]>j:\n",
    "                t[i][j]=t[i-1][j]\n",
    "            else:\n",
    "                t[i][j]=max(price[i-1]+t[i][j-cut[i-1]],t[i-1][j])\n",
    "    return t[len(cut)][L]\n",
    "\n",
    "\n",
    "print(rod_cutting(L,cut,price))\n",
    "\n",
    "\n",
    "\n",
    "\n",
    "\n",
    "# ---------------------------recursive approach------------------------------------\n",
    "\n",
    "w=8\n",
    "wt=[1,2,3,4,5,6,7]\n",
    "val=[2,3,4,5,6,7,8]\n",
    "n=len(wt)\n",
    "def unbound_knapsack(wt,val,n,w):\n",
    "    if n==0 or w==0:\n",
    "        return 0\n",
    "    elif wt[n-1]>w:\n",
    "        return unbound_knapsack(wt,val,n-1,w)\n",
    "    else:\n",
    "        return max(val[n-1]+unbound_knapsack(wt,val,n,w-wt[n-1]),unbound_knapsack(wt,val,n-1,w))\n",
    "print(unbound_knapsack(wt,val,n,w))  "
   ]
  },
  {
   "cell_type": "markdown",
   "metadata": {},
   "source": [
    "#### Q8)Coin change problem\n",
    ">Given coin array and sm by using given coins by how many ways u will get sm?\n"
   ]
  },
  {
   "cell_type": "code",
   "execution_count": 13,
   "metadata": {},
   "outputs": [
    {
     "name": "stdout",
     "output_type": "stream",
     "text": [
      "5\n",
      "5\n"
     ]
    }
   ],
   "source": [
    "#  \n",
    "\n",
    "coin=[1,2,3]\n",
    "sm=5\n",
    "n=len(coin)\n",
    "def coin_change(coin,sm):\n",
    "    t=[[0 for j in range(sm+1)] for i in range(len(coin)+1)]\n",
    "    for i in range(len(coin)+1):\n",
    "        for j in range(sm+1):\n",
    "            if j==0:\n",
    "                t[i][j]=1\n",
    "            elif i==0 and j>0:\n",
    "                t[i][j]=0\n",
    "                \n",
    "            elif coin[i-1]>j:\n",
    "                t[i][j]=t[i-1][j]\n",
    "            else:\n",
    "                t[i][j]=t[i-1][j]+t[i][j-coin[i-1]]\n",
    "                \n",
    "    return t[len(coin)][sm]\n",
    "\n",
    "print(coin_change(coin,sm))\n",
    "\n",
    "\n",
    "\n",
    "\n",
    "\n",
    "# --------------------------------recursive_approach---------------------------------------\n",
    "\n",
    "def coin_change_rec(coin,n,sm):\n",
    "    count=0\n",
    "    if sm==0:\n",
    "        count+=1\n",
    "    elif n==0 and sm>0:\n",
    "        count+=0\n",
    "    else:\n",
    "        \n",
    "        if coin[n-1]>sm:\n",
    "            count+=coin_change_rec(coin,n-1,sm)\n",
    "        else:\n",
    "            count+=coin_change_rec(coin,n,sm-coin[n-1])+coin_change_rec(coin,n-1,sm)\n",
    "        \n",
    "    return count\n",
    "\n",
    "print(coin_change_rec(coin,n,sm))"
   ]
  },
  {
   "cell_type": "markdown",
   "metadata": {},
   "source": [
    "#### Q9)minimum number of coins\n",
    ">what are the minimum number of coint need to take to get gien sum?"
   ]
  },
  {
   "cell_type": "code",
   "execution_count": 14,
   "metadata": {},
   "outputs": [
    {
     "name": "stdout",
     "output_type": "stream",
     "text": [
      "2\n"
     ]
    }
   ],
   "source": [
    "\n",
    "import numpy as np\n",
    "coin=[1,2,3]\n",
    "sm=5\n",
    "\n",
    "def min_num_coins(coin,sm):\n",
    "    t=[[0 for j in range(sm+1)] for i in range(len(coin)+1)]\n",
    "    for i in range(len(coin)+1):\n",
    "        for j in range(sm+1):\n",
    "            if i==0:\n",
    "                t[i][j]=np.inf-1\n",
    "            elif i>0 and j==0:\n",
    "                t[i][j]=0\n",
    "            elif i==1 and  j>0:\n",
    "                if j%coin[i-1]==0:\n",
    "                    t[i][j]=j//coin[i-1]\n",
    "                else:\n",
    "                    t[i][j]=np.inf-1\n",
    "            elif coin[i-1]>j:\n",
    "                t[i][j]=t[i-1][j]\n",
    "            else:\n",
    "                t[i][j]=min(t[i][j-coin[i-1]]+1,t[i-1][j])\n",
    "                \n",
    "    return t[len(coin)][sm]\n",
    "\n",
    "print(min_num_coins(coin,sm))"
   ]
  },
  {
   "cell_type": "markdown",
   "metadata": {},
   "source": [
    "## <font color=red>Longest common subsequences<fonts/>"
   ]
  },
  {
   "cell_type": "markdown",
   "metadata": {},
   "source": [
    "#### Q10)LCS"
   ]
  },
  {
   "cell_type": "code",
   "execution_count": 15,
   "metadata": {},
   "outputs": [
    {
     "name": "stdout",
     "output_type": "stream",
     "text": [
      "5\n",
      "5\n"
     ]
    }
   ],
   "source": [
    "# Q1)LCS recursive method\n",
    "x='abcdfgm'\n",
    "y='abcgmkhgg'\n",
    "m=len(x)\n",
    "n=len(y)\n",
    "def lcm(x,y,m,n):\n",
    "    if n==0 or m==0:\n",
    "        return 0                                                                              #recursive solution\n",
    "    elif x[m-1]==y[n-1]:\n",
    "        return 1+lcm(x,y,m-1,n-1)\n",
    "    else:\n",
    "        return max(lcm(x,y,m,n-1),lcm(x,y,m-1,n))\n",
    "    \n",
    "    \n",
    "print(lcm(x,y,m,n))\n",
    "\n",
    "\n",
    "\n",
    "# lcm top down approach\n",
    "\n",
    "x1='abcdfgm'\n",
    "y1='abcgmkhgg'\n",
    "a=len(x1)\n",
    "b=len(y1)\n",
    "def LCM(x1,y1,a,b):\n",
    "    t=[[0 for j in range(b+1)] for i in range(a+1)]\n",
    "    for i in range(a+1):\n",
    "        for j in range(b+1):\n",
    "            if i==0 or j==0:\n",
    "                t[i][j]=0\n",
    "            elif x1[i-1]==y1[j-1]:\n",
    "                t[i][j]=1+t[i-1][j-1]\n",
    "            else:\n",
    "                t[i][j]=max(t[i][j-1],t[i-1][j])\n",
    "                \n",
    "                \n",
    "    return t[a][b]\n",
    "\n",
    "\n",
    "print(LCM(x1,y1,a,b))"
   ]
  },
  {
   "cell_type": "markdown",
   "metadata": {},
   "source": [
    "#### Q11)longest common substring\n",
    ">Given two strings what is the length of longest common substring"
   ]
  },
  {
   "cell_type": "code",
   "execution_count": 16,
   "metadata": {},
   "outputs": [
    {
     "name": "stdout",
     "output_type": "stream",
     "text": [
      "4\n"
     ]
    }
   ],
   "source": [
    "# Q2)----------------------\n",
    "# (maximum possible amount geeks for geeks interesting one)#\n",
    "\n",
    "\n",
    "\n",
    "\n",
    "# problem statment---------->Given two strings what is the length of longest common substring\n",
    "# problem statment---------->Given two strings what is the length of longest common substring\n",
    "# problem statment---------->Given two strings what is the length of longest common substring\n",
    "x='aefsbmnop'\n",
    "y='efsmnop'\n",
    "\n",
    "m=len(x)\n",
    "n=len(y)\n",
    "def longest_common_substring(x,y,m,n):\n",
    "    t=[[0 for i in range(n+1)] for j in range(m+1)]\n",
    "    for  i in range(m+1):\n",
    "        for j in range(n+1):\n",
    "            if i==0 or j==0:\n",
    "                t[i][j]=0\n",
    "            elif x[i-1]==y[j-1]:\n",
    "                t[i][j]=1+t[i-1][j-1]\n",
    "            else:\n",
    "                t[i][j]=0\n",
    "                \n",
    "    al=[max(t[p][:]) for p in range(m+1)]\n",
    "\n",
    "    \n",
    "    return max(al)\n",
    "print(longest_common_substring(x,y,m,n))"
   ]
  },
  {
   "cell_type": "markdown",
   "metadata": {},
   "source": [
    "#### Q12)printing longest common subsequence4"
   ]
  },
  {
   "cell_type": "code",
   "execution_count": 17,
   "metadata": {},
   "outputs": [
    {
     "name": "stdout",
     "output_type": "stream",
     "text": [
      "adfgefs\n"
     ]
    }
   ],
   "source": [
    "\n",
    "x='adfgefs'\n",
    "y='adfgefstu'\n",
    "m=len(x)\n",
    "n=len(y)\n",
    "def print_lcm(x,y,m,n):\n",
    "    t=[[0 for i in range(n+1)] for j in range(m+1)]\n",
    "    for  i in range(m+1):\n",
    "        for j in range(n+1):\n",
    "            if i==0 or j==0:\n",
    "                t[i][j]=0\n",
    "            elif x[i-1]==y[j-1]:\n",
    "                t[i][j]=1+t[i-1][j-1]\n",
    "            else:\n",
    "                t[i][j]=max(t[i][j-1],t[i-1][j])\n",
    "               \n",
    "    s=''\n",
    "    i=m\n",
    "    j=n\n",
    "    while i>0 and j>0:\n",
    "        if x[i-1]==y[j-1]:\n",
    "            s+=x[i-1]\n",
    "            i-=1\n",
    "            j-=1\n",
    "        else:\n",
    "            if t[i][j-1]>t[i-1][j]:\n",
    "                j-=1\n",
    "            else:\n",
    "                i-=1\n",
    "            \n",
    "    return s[::-1]\n",
    "        \n",
    "    \n",
    "    \n",
    "print(print_lcm(x,y,m,n))\n"
   ]
  },
  {
   "cell_type": "markdown",
   "metadata": {},
   "source": [
    "#### Q13)printing longest common substring\n",
    ">trick---> similar above one but the difference is we need to locate i,j of maximum value in t  \n",
    "whenever there are many substrings of same leangth then its a problem\n"
   ]
  },
  {
   "cell_type": "code",
   "execution_count": 19,
   "metadata": {},
   "outputs": [
    {
     "name": "stdout",
     "output_type": "stream",
     "text": [
      "abcdf\n"
     ]
    }
   ],
   "source": [
    "x='abcdfg'\n",
    "y='abcdfmnio'\n",
    "m=len(x)\n",
    "n=len(y)\n",
    "\n",
    "def longest_common_subsequence(x,y,m,n):\n",
    "    st=''\n",
    "    t=[[0 for j in range(n+1)] for i in range(m+1)]\n",
    "    for  i in range(m+1):\n",
    "        for j in range(n+1):\n",
    "            if i==0 or j==0:\n",
    "                t[i][j]=0\n",
    "            elif x[i-1]==y[j-1]:\n",
    "                t[i][j]=1+t[i-1][j-1]\n",
    "            else:\n",
    "                t[i][j]=max(t[i][j-1],t[i-1][j])\n",
    "    l=m\n",
    "    k=n\n",
    "    while l!=0 and k!=0:\n",
    "        if x[l-1]==y[k-1]:\n",
    "            st+=x[l-1]\n",
    "            l-=1\n",
    "            k-=1\n",
    "        elif t[l][k-1]>t[l-1][k]:\n",
    "            k=k-1\n",
    "        else:\n",
    "            l=l-1\n",
    "            \n",
    "    return st[::-1]\n",
    "      \n",
    "print( longest_common_subsequence(x,y,m,n))"
   ]
  },
  {
   "cell_type": "markdown",
   "metadata": {},
   "source": [
    "#### Q14)shortest common supersequence\n"
   ]
  },
  {
   "cell_type": "code",
   "execution_count": 20,
   "metadata": {},
   "outputs": [
    {
     "name": "stdout",
     "output_type": "stream",
     "text": [
      "7\n"
     ]
    }
   ],
   "source": [
    "\n",
    "x='abcdef'\n",
    "y='acbcf'\n",
    "\n",
    "m=len(x)\n",
    "n=len(y)\n",
    "def shortest_superstring(x,y,m,n):\n",
    "    t=[[0 for j in range(n+1) ] for i in range(m+1)]\n",
    "    for i in range(m+1):\n",
    "        for j in range(n+1):\n",
    "            if i==0 or j==0:\n",
    "                t[i][j]=0\n",
    "            elif x[i-1]==y[j-1]:\n",
    "                t[i][j]=1+t[i-1][j-1]\n",
    "            else:\n",
    "                t[i][j]=max(t[i][j-1],t[i-1][j])\n",
    "                \n",
    "                \n",
    "    return m+n-(t[m][n])\n",
    "\n",
    "\n",
    "print(shortest_superstring(x,y,m,n))"
   ]
  },
  {
   "cell_type": "markdown",
   "metadata": {},
   "source": [
    "#### Q15)minimum number of insertion and deletion to convert string A to string B"
   ]
  },
  {
   "cell_type": "code",
   "execution_count": 21,
   "metadata": {},
   "outputs": [
    {
     "name": "stdout",
     "output_type": "stream",
     "text": [
      "3\n"
     ]
    }
   ],
   "source": [
    "\n",
    "x='heap'            \n",
    "y='pea'\n",
    "\n",
    "m=len(x)\n",
    "n=len(y)\n",
    "\n",
    "def min_insertion_deletion(x,y,m,n):\n",
    "    t=[[0 for j in range(n+1)] for i in range(m+1)]\n",
    "    for i in range(m+1):\n",
    "        for j in range(n+1):\n",
    "            if i==0 or j==0:\n",
    "                t[i][j]=0\n",
    "            elif x[i-1]==y[j-1]:\n",
    "                t[i][j]=1+t[i-1][j-1]\n",
    "            else:\n",
    "                t[i][j]=max(t[i][j-1],t[i-1][j])\n",
    "                \n",
    "                \n",
    "                \n",
    "    return (m+n)-2*(t[m][n])\n",
    "\n",
    "\n",
    "print(min_insertion_deletion(x,y,m,n))"
   ]
  },
  {
   "cell_type": "markdown",
   "metadata": {},
   "source": [
    "#### Q16)Longest common palindromic sequence"
   ]
  },
  {
   "cell_type": "code",
   "execution_count": 22,
   "metadata": {},
   "outputs": [
    {
     "name": "stdout",
     "output_type": "stream",
     "text": [
      "3\n"
     ]
    }
   ],
   "source": [
    "\n",
    "x='bijali'\n",
    "y=x[::-1]\n",
    "m=len(x)\n",
    "n=len(y)\n",
    "\n",
    "\n",
    "# ----------------top down approach---------------\n",
    "def lcp(x,y,m,n):\n",
    "    t=[[0 for j in range(n+1)] for i in range(m+1)]\n",
    "    for i in range(m+1):\n",
    "        for j in range(n+1):\n",
    "            if i==0 or j==0:\n",
    "                t[i][j]=0\n",
    "            elif x[i-1]==y[j-1]:\n",
    "                t[i][j]=1+t[i-1][j-1]\n",
    "            else:\n",
    "                t[i][j]=max(t[i][j-1],t[i-1][j])\n",
    "                \n",
    "    return t[m][n]\n",
    "\n",
    "\n",
    "\n",
    "                \n",
    "print(lcp(x,y,m,n))              "
   ]
  },
  {
   "cell_type": "markdown",
   "metadata": {},
   "source": [
    "#### Q17) minimum number of deletions to make string palindrome"
   ]
  },
  {
   "cell_type": "code",
   "execution_count": 23,
   "metadata": {},
   "outputs": [
    {
     "name": "stdout",
     "output_type": "stream",
     "text": [
      "1\n"
     ]
    }
   ],
   "source": [
    "\n",
    "x='ijai'\n",
    "y=x[::-1]\n",
    "m=len(x)\n",
    "n=len(y)\n",
    "def min_lps(x,y,m,n):\n",
    "    t=[[0 for j in range(n+1)] for i in range(m+1)]\n",
    "    for i in range(m+1):\n",
    "        for j in range(n+1):\n",
    "            if i==0 or j==0:\n",
    "                t[i][j]=0\n",
    "            elif x[i-1]==y[j-1]:\n",
    "                t[i][j]=1+t[i-1][j-1]\n",
    "            else:\n",
    "                t[i][j]=max(t[i][j-1],t[i-1][j])\n",
    "                \n",
    "    return m-t[m][n]\n",
    "\n",
    "print(min_lps(x,y,m,n))\n"
   ]
  },
  {
   "cell_type": "markdown",
   "metadata": {},
   "source": [
    "#### Q18) print shortest common supersequence"
   ]
  },
  {
   "cell_type": "code",
   "execution_count": 24,
   "metadata": {},
   "outputs": [
    {
     "name": "stdout",
     "output_type": "stream",
     "text": [
      "abmc\n"
     ]
    }
   ],
   "source": [
    "\n",
    "x='ab'\n",
    "y='abmc'\n",
    "m=len(x)\n",
    "n=len(y)\n",
    "\n",
    "        \n",
    "def print_lcs(x,y,m,n):\n",
    "    t=[[0 for j in range(n+1)] for i in range(m+1)]\n",
    "    for i in range(m+1):\n",
    "        for j in range(n+1):\n",
    "            if i==0 or j==0:\n",
    "                t[i][j]=0\n",
    "            elif x[i-1]==y[j-1]:\n",
    "                t[i][j]=1+t[i-1][j-1]\n",
    "            else:\n",
    "                t[i][j]=max(t[i][j-1],t[i-1][j])\n",
    "                \n",
    "    a=m\n",
    "    b=n\n",
    "    s=''\n",
    "    while a!=0 and b!=0:\n",
    "        if x[a-1]==y[b-1]:\n",
    "            s+=x[a-1]\n",
    "            a-=1\n",
    "            b-=1\n",
    "            \n",
    "        elif t[a][b-1]>t[a-1][b]:\n",
    "            s+=y[b-1]\n",
    "            b-=1\n",
    "        else:\n",
    "            s+=x[a-1]\n",
    "            a-=1\n",
    "            \n",
    "            \n",
    "    if a>0: \n",
    "        while a>0:\n",
    "            s+=x[a-1]\n",
    "            a-=1\n",
    "    elif b>0:\n",
    "        while b>0:\n",
    "            s+=y[b-1]\n",
    "            b-=1\n",
    "        \n",
    "    return s[::-1]\n",
    "        \n",
    "print(print_lcs(x,y,m,n))\n",
    "     \n",
    "    \n",
    "    \n",
    "    \n",
    "    \n",
    "    \n",
    "    \n",
    "    \n",
    "    \n",
    "    \n",
    "    "
   ]
  },
  {
   "cell_type": "markdown",
   "metadata": {},
   "source": [
    "#### Q19)longest repaeting subsequence"
   ]
  },
  {
   "cell_type": "code",
   "execution_count": 22,
   "metadata": {},
   "outputs": [
    {
     "name": "stdout",
     "output_type": "stream",
     "text": [
      "1\n"
     ]
    }
   ],
   "source": [
    "\n",
    "x='aab'\n",
    "y=x\n",
    "m=len(x)\n",
    "n=len(y)\n",
    "def longest_repeating_subsequence(x,y,m,n):\n",
    "    t=[[0 for j in range(n+1)] for i in range(m+1)]\n",
    "    for i in range(m+1):\n",
    "        for j in range(n+1):\n",
    "            if i==0 or j==0:\n",
    "                t[i][j]=0\n",
    "            elif x[i-1]==y[j-1]  and i!=j:\n",
    "                t[i][j]=1+t[i-1][j-1]\n",
    "            else:\n",
    "                t[i][j]=max(t[i][j-1],t[i-1][j])\n",
    "                \n",
    "                \n",
    "    return t[m][n]\n",
    "\n",
    "print(longest_repeating_subsequence(x,y,m,n))"
   ]
  },
  {
   "cell_type": "markdown",
   "metadata": {},
   "source": [
    "#### Q20)sequence pattern matching"
   ]
  },
  {
   "cell_type": "code",
   "execution_count": 26,
   "metadata": {},
   "outputs": [
    {
     "name": "stdout",
     "output_type": "stream",
     "text": [
      "True\n"
     ]
    }
   ],
   "source": [
    "\n",
    "x='abcdfg'\n",
    "y='abcg'\n",
    "m=len(x)\n",
    "n=len(y)\n",
    "def seq_pattern_matching(x,y,m,n):\n",
    "    t=[[0 for j in range(n+1)] for i in range(m+1)]\n",
    "    for i in range(m+1):\n",
    "        for j in range(n+1):\n",
    "            if i==0 or j==0:\n",
    "                t[i][j]=0\n",
    "            elif x[i-1]==y[j-1]:\n",
    "                t[i][j]=1+t[i-1][j-1]\n",
    "            else:\n",
    "                t[i][j]=max(t[i][j-1],t[i-1][j])\n",
    "                \n",
    "    if t[m][n]==len(y):\n",
    "        return True\n",
    "    else:\n",
    "        return False\n",
    "    \n",
    "    \n",
    "print(seq_pattern_matching(x,y,m,n))"
   ]
  },
  {
   "cell_type": "code",
   "execution_count": null,
   "metadata": {},
   "outputs": [],
   "source": [
    "\n",
    "\n"
   ]
  },
  {
   "cell_type": "code",
   "execution_count": null,
   "metadata": {},
   "outputs": [],
   "source": []
  },
  {
   "cell_type": "code",
   "execution_count": null,
   "metadata": {},
   "outputs": [],
   "source": []
  }
 ],
 "metadata": {
  "kernelspec": {
   "display_name": "Python 3",
   "language": "python",
   "name": "python3"
  },
  "language_info": {
   "codemirror_mode": {
    "name": "ipython",
    "version": 3
   },
   "file_extension": ".py",
   "mimetype": "text/x-python",
   "name": "python",
   "nbconvert_exporter": "python",
   "pygments_lexer": "ipython3",
   "version": "3.8.3"
  }
 },
 "nbformat": 4,
 "nbformat_minor": 4
}
