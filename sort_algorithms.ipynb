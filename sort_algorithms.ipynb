{
 "cells": [
  {
   "cell_type": "markdown",
   "metadata": {},
   "source": [
    "# 1. Bubble sort  \n",
    "> Time complexity O(n^2)"
   ]
  },
  {
   "cell_type": "markdown",
   "metadata": {},
   "source": [
    "> ascending bubble"
   ]
  },
  {
   "cell_type": "code",
   "execution_count": 14,
   "metadata": {},
   "outputs": [],
   "source": [
    "from datetime import datetime\n"
   ]
  },
  {
   "cell_type": "code",
   "execution_count": 27,
   "metadata": {},
   "outputs": [
    {
     "name": "stdout",
     "output_type": "stream",
     "text": [
      "[1, 2, 4, 5, 5, 6, 7, 8, 8, 9, 9]\n",
      "0.0\n"
     ]
    }
   ],
   "source": [
    "start=datetime.now()             \n",
    "def ascend_buble_sort(arr):\n",
    "    for i in range(len(arr)-1):\n",
    "        for j in range(len(arr)-1):\n",
    "            if arr[j]>arr[j+1]:\n",
    "                arr[j],arr[j+1]=arr[j+1],arr[j]\n",
    "    return arr\n",
    "            \n",
    "arr=[7,8,9,5,4,1,2,5,6,8,9]\n",
    "\n",
    "print(ascend_buble_sort(arr))\n",
    "end=datetime.now()\n",
    "print((end-start).total_seconds())"
   ]
  },
  {
   "cell_type": "markdown",
   "metadata": {},
   "source": [
    "> Descending bubble sort"
   ]
  },
  {
   "cell_type": "code",
   "execution_count": 25,
   "metadata": {},
   "outputs": [
    {
     "name": "stdout",
     "output_type": "stream",
     "text": [
      "[9, 9, 8, 8, 7, 6, 5, 5, 4, 2, 1]\n",
      "0.005986\n"
     ]
    }
   ],
   "source": [
    "start=datetime.now()\n",
    "def ascend_buble_sort(arr):\n",
    "    for i in range(len(arr)-1):\n",
    "        for j in range(len(arr)-1):\n",
    "            if arr[j]<arr[j+1]:\n",
    "                arr[j],arr[j+1]=arr[j+1],arr[j]\n",
    "    return arr\n",
    "            \n",
    "arr=[7,8,9,5,4,1,2,5,6,8,9]\n",
    "\n",
    "print(ascend_buble_sort(arr))\n",
    "end=datetime.now()\n",
    "print((end-start).total_seconds())"
   ]
  },
  {
   "cell_type": "markdown",
   "metadata": {},
   "source": [
    "# 2. merge sort"
   ]
  },
  {
   "cell_type": "markdown",
   "metadata": {},
   "source": [
    ">Ascending merge"
   ]
  },
  {
   "cell_type": "code",
   "execution_count": 41,
   "metadata": {},
   "outputs": [
    {
     "name": "stdout",
     "output_type": "stream",
     "text": [
      "[2, 4, 5, 5, 5, 6, 7, 8, 8, 9, 9, 48]\n",
      "0.0\n"
     ]
    }
   ],
   "source": [
    "start=datetime.now()\n",
    "def asc_merge(arr):\n",
    "    if len(arr)>1:\n",
    "        mid=len(arr)//2\n",
    "        left_list=arr[0:mid]\n",
    "        right_list=arr[mid:]\n",
    "        asc_merge(left_list)\n",
    "        asc_merge(right_list)\n",
    "        i=0\n",
    "        j=0\n",
    "        k=0\n",
    "        while i<len(left_list) and j<len(right_list):\n",
    "            if left_list[i]<right_list[j]:\n",
    "                arr[k]=left_list[i]\n",
    "                i+=1\n",
    "                k+=1\n",
    "            else:\n",
    "                arr[k]=right_list[j]\n",
    "                j+=1\n",
    "                k+=1\n",
    "        while i<len(left_list):\n",
    "            arr[k]=left_list[i]\n",
    "            i+=1\n",
    "            k+=1\n",
    "        while j<len(right_list):\n",
    "            arr[k]=right_list[j]\n",
    "            j+=1\n",
    "            k+=1\n",
    "            \n",
    "    return arr\n",
    "\n",
    "arr=[8,9,7,4,5,6,9,8,2,5,5,48]\n",
    "print(asc_merge(arr))\n",
    "end=datetime.now()\n",
    "print((end-start).total_seconds())            \n"
   ]
  },
  {
   "cell_type": "markdown",
   "metadata": {},
   "source": [
    "> Descending merge"
   ]
  },
  {
   "cell_type": "code",
   "execution_count": 46,
   "metadata": {},
   "outputs": [
    {
     "name": "stdout",
     "output_type": "stream",
     "text": [
      "[48, 9, 9, 8, 8, 7, 6, 5, 5, 5, 4, 2]\n",
      "0.000997\n"
     ]
    }
   ],
   "source": [
    "start=datetime.now()\n",
    "def desc_merge(arr):\n",
    "    if len(arr)>1:\n",
    "        mid=len(arr)//2\n",
    "        left_list=arr[0:mid]\n",
    "        right_list=arr[mid:]\n",
    "        desc_merge(left_list)\n",
    "        desc_merge(right_list)\n",
    "        i=0\n",
    "        j=0\n",
    "        k=0\n",
    "        while i<len(left_list) and j<len(right_list):\n",
    "            if left_list[i]>right_list[j]:\n",
    "                arr[k]=left_list[i]\n",
    "                i+=1\n",
    "                k+=1\n",
    "            else:\n",
    "                arr[k]=right_list[j]\n",
    "                j+=1\n",
    "                k+=1\n",
    "        while i<len(left_list):\n",
    "            arr[k]=left_list[i]\n",
    "            i+=1\n",
    "            k+=1\n",
    "        while j<len(right_list):\n",
    "            arr[k]=right_list[j]\n",
    "            j+=1\n",
    "            k+=1\n",
    "            \n",
    "    return arr\n",
    "\n",
    "arr=[8,9,7,4,5,6,9,8,2,5,5,48]\n",
    "print(desc_merge(arr))\n",
    "end=datetime.now()\n",
    "print((end-start).total_seconds()) "
   ]
  },
  {
   "cell_type": "markdown",
   "metadata": {},
   "source": [
    "## 3. Insertion sort"
   ]
  },
  {
   "cell_type": "code",
   "execution_count": 11,
   "metadata": {},
   "outputs": [
    {
     "name": "stdout",
     "output_type": "stream",
     "text": [
      "[8, 7, 5, 9, 6, 8, 7, 4, 5, 6, 9]\n"
     ]
    }
   ],
   "source": [
    "def insertion_sort_asc(arr):\n",
    "    for index in range(1,len(arr)):\n",
    "        current_val=arr[index]\n",
    "        pos=index\n",
    "        while current_val<arr[pos]-1 and pos>0:\n",
    "            arr[pos]=arr[pos-1]\n",
    "            pos=pos-1\n",
    "        arr[pos]=current_val\n",
    "        \n",
    "    return arr\n",
    "            \n",
    "    \n",
    "arr=[8,7,5,9,6,8,7,4,5,6,9]\n",
    "print(insertion_sort_asc(arr))\n",
    "                "
   ]
  },
  {
   "cell_type": "markdown",
   "metadata": {},
   "source": [
    "### 4) Selection sort\n",
    "> Time complexity O(n)"
   ]
  },
  {
   "cell_type": "code",
   "execution_count": 6,
   "metadata": {},
   "outputs": [
    {
     "name": "stdout",
     "output_type": "stream",
     "text": [
      "[1, 2, 3, 4, 5, 5, 6, 7, 8, 8, 9]\n"
     ]
    }
   ],
   "source": [
    "arr=[8,5,6,9,4,1,2,3,5,7,8]\n",
    "for i in range(len(arr)):\n",
    "    l=arr[i:]\n",
    "    m=l.index(min(arr[i:]))+i\n",
    "    arr[i],arr[m]=arr[m],arr[i]\n",
    "print(arr)"
   ]
  },
  {
   "cell_type": "code",
   "execution_count": null,
   "metadata": {},
   "outputs": [],
   "source": []
  },
  {
   "cell_type": "code",
   "execution_count": 10,
   "metadata": {},
   "outputs": [
    {
     "name": "stdout",
     "output_type": "stream",
     "text": [
      "[5, 8, 1, 9]\n"
     ]
    }
   ],
   "source": [
    "arr=[5,8,1,9]\n",
    "for i in range(1,len(arr)):\n",
    "\n",
    "    j=i-1\n",
    "    if arr[j]<arr[i]:\n",
    "        while arr[j]<arr[i]:\n",
    "            j-=1\n",
    "        arr[i],arr[j]=arr[j],arr[i]\n",
    "        \n",
    "    \n",
    "print(arr)\n",
    "        \n",
    "    "
   ]
  },
  {
   "cell_type": "code",
   "execution_count": 15,
   "metadata": {},
   "outputs": [
    {
     "name": "stdout",
     "output_type": "stream",
     "text": [
      "[4, 5, 3, 4, 4, 5]\n",
      "2\n"
     ]
    }
   ],
   "source": [
    "arr=[[1,0,1,0,1],[1,1,1,0,0],[1,1,0,1,0],[0,0,1,0,1]]\n",
    "ans=[]\n",
    "for i in range(len(arr)-1):\n",
    "    for j in range(i+1,len(arr)):\n",
    "        c=0\n",
    "        for m,n in zip(arr[i],arr[j]):\n",
    "            if any([m,n]):\n",
    "                c+=1\n",
    "        ans.append(c)\n",
    "        \n",
    "print(ans)        \n",
    "print(ans.count(max(ans)))\n",
    "                \n",
    "        "
   ]
  },
  {
   "cell_type": "code",
   "execution_count": null,
   "metadata": {},
   "outputs": [],
   "source": []
  }
 ],
 "metadata": {
  "kernelspec": {
   "display_name": "Python 3",
   "language": "python",
   "name": "python3"
  },
  "language_info": {
   "codemirror_mode": {
    "name": "ipython",
    "version": 3
   },
   "file_extension": ".py",
   "mimetype": "text/x-python",
   "name": "python",
   "nbconvert_exporter": "python",
   "pygments_lexer": "ipython3",
   "version": "3.8.3"
  }
 },
 "nbformat": 4,
 "nbformat_minor": 4
}
