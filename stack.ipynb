{
 "cells": [
  {
   "cell_type": "markdown",
   "metadata": {},
   "source": [
    "# Stack"
   ]
  },
  {
   "cell_type": "markdown",
   "metadata": {},
   "source": [
    "### Identification"
   ]
  },
  {
   "cell_type": "markdown",
   "metadata": {},
   "source": [
    "> whenever there is necessary to apply two for loops where as inner loop depends on the value iterating from first loop there think of using stack"
   ]
  },
  {
   "cell_type": "markdown",
   "metadata": {},
   "source": [
    "### Q1)1 Finding nearest greater element right side.\n",
    "\n",
    ">problem_statment-->  Given an array , for each elememt of that array u need to return the nearest right side greater element if u dont fuond any greater element return -1"
   ]
  },
  {
   "cell_type": "code",
   "execution_count": 13,
   "metadata": {},
   "outputs": [
    {
     "name": "stdout",
     "output_type": "stream",
     "text": [
      "[3, 4, 4, -1]\n"
     ]
    }
   ],
   "source": [
    "def find_great_el_right(arr,n):\n",
    "    stack=[]\n",
    "    ans=[]\n",
    "    for i in range(-1,-(n+1),-1):\n",
    "        if not stack:\n",
    "            ans.append(-1)\n",
    "        elif (len(stack)>0) and  (stack[-1]>arr[i]):\n",
    "            ans.append(stack[-1])\n",
    "        elif (len(stack)>0)  and (stack[-1]<=arr[i]):\n",
    "            while len(stack)>0 and (stack[-1]<=arr[i]):\n",
    "                stack.pop()\n",
    "            if len(stack)==0:\n",
    "                ans.append(-1)\n",
    "            else:\n",
    "                ans.append(stack[-1])\n",
    "                \n",
    "        stack.append(arr[i])\n",
    "        \n",
    "    return ans[::-1]\n",
    "arr=[1,3,2,4]\n",
    "n=len(arr)\n",
    "print(find_great_el_right(arr,n))"
   ]
  },
  {
   "cell_type": "markdown",
   "metadata": {},
   "source": [
    "### Q2).Findinf nearest geaeter to left  \n",
    "\n",
    "> same  as above but to search large number at left"
   ]
  },
  {
   "cell_type": "code",
   "execution_count": 16,
   "metadata": {},
   "outputs": [
    {
     "name": "stdout",
     "output_type": "stream",
     "text": [
      "[-1, -1, 3, -1]\n"
     ]
    }
   ],
   "source": [
    "def find_great_el_left(arr,n):\n",
    "    stack=[]\n",
    "    ans=[]\n",
    "    for i in arr:\n",
    "        if not stack:\n",
    "            ans.append(-1)\n",
    "        elif (len(stack)>0) and  (stack[-1]>i):\n",
    "            ans.append(stack[-1])\n",
    "        elif (len(stack)>0)  and (stack[-1]<=i):\n",
    "            while len(stack)>0 and (stack[-1]<=i):\n",
    "                stack.pop()\n",
    "            if len(stack)==0:\n",
    "                ans.append(-1)\n",
    "            else:\n",
    "                ans.append(stack[-1])\n",
    "                \n",
    "        stack.append(i)\n",
    "        \n",
    "    return ans\n",
    "arr=[1,3,2,4]\n",
    "n=len(arr)\n",
    "print(find_great_el_left(arr,n))"
   ]
  },
  {
   "cell_type": "markdown",
   "metadata": {},
   "source": [
    "### Q3) Nearest  smallest to left\n",
    "\n",
    "> problem_statment--> same as above but searching smaalest to the left"
   ]
  },
  {
   "cell_type": "code",
   "execution_count": 18,
   "metadata": {},
   "outputs": [
    {
     "name": "stdout",
     "output_type": "stream",
     "text": [
      "[-1, 1, 1, 2]\n"
     ]
    }
   ],
   "source": [
    "def find_small_el_left(arr,n):\n",
    "    stack=[]\n",
    "    ans=[]\n",
    "    for i in arr:\n",
    "        if not stack:\n",
    "            ans.append(-1)\n",
    "        elif (len(stack)>0) and  (stack[-1]<i):\n",
    "            ans.append(stack[-1])\n",
    "        elif (len(stack)>0)  and (stack[-1]>=i):\n",
    "            while len(stack)>0 and (stack[-1]>=i):\n",
    "                stack.pop()\n",
    "            if len(stack)==0:\n",
    "                ans.append(-1)\n",
    "            else:\n",
    "                ans.append(stack[-1])\n",
    "                \n",
    "        stack.append(i)\n",
    "        \n",
    "    return ans\n",
    "arr=[1,3,2,4]\n",
    "n=len(arr)\n",
    "print(find_small_el_left(arr,n))"
   ]
  },
  {
   "cell_type": "markdown",
   "metadata": {},
   "source": [
    "#### Q4) Nearest smallest to right\n",
    "\n",
    ">problem_statment--> same as above but searching smallest to the right"
   ]
  },
  {
   "cell_type": "code",
   "execution_count": 19,
   "metadata": {},
   "outputs": [
    {
     "name": "stdout",
     "output_type": "stream",
     "text": [
      "[-1, 2, -1, -1]\n"
     ]
    }
   ],
   "source": [
    "def find_small_el_right(arr,n):\n",
    "    stack=[]\n",
    "    ans=[]\n",
    "    for i in arr[::-1]:\n",
    "        if not stack:\n",
    "            ans.append(-1)\n",
    "        elif (len(stack)>0) and  (stack[-1]<i):\n",
    "            ans.append(stack[-1])\n",
    "        elif (len(stack)>0)  and (stack[-1]>=i):\n",
    "            while len(stack)>0 and (stack[-1]>=i):\n",
    "                stack.pop()\n",
    "            if len(stack)==0:\n",
    "                ans.append(-1)\n",
    "            else:\n",
    "                ans.append(stack[-1])\n",
    "                \n",
    "        stack.append(i)\n",
    "        \n",
    "    return ans[::-1]\n",
    "arr=[1,3,2,4]\n",
    "n=len(arr)\n",
    "print(find_small_el_right(arr,n))"
   ]
  },
  {
   "cell_type": "code",
   "execution_count": null,
   "metadata": {},
   "outputs": [],
   "source": []
  }
 ],
 "metadata": {
  "kernelspec": {
   "display_name": "Python 3",
   "language": "python",
   "name": "python3"
  },
  "language_info": {
   "codemirror_mode": {
    "name": "ipython",
    "version": 3
   },
   "file_extension": ".py",
   "mimetype": "text/x-python",
   "name": "python",
   "nbconvert_exporter": "python",
   "pygments_lexer": "ipython3",
   "version": "3.8.3"
  }
 },
 "nbformat": 4,
 "nbformat_minor": 4
}
