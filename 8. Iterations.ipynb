{
 "cells": [
  {
   "cell_type": "markdown",
   "metadata": {},
   "source": [
    "# Loops\n",
    "\n",
    "Loops are used to execute of a specific block of code in repetitively\n",
    "\n",
    "### while loop\n",
    "- The ‘while loop’ in Python is used to iterate over a block of code as long as the test expression holds true\n",
    "- Event based loop\n",
    "- Event occurring inside the loop determines the number of iterations\n",
    "- This loop is used when the number of times to iterate is not known to us beforehand\n"
   ]
  },
  {
   "cell_type": "markdown",
   "metadata": {},
   "source": [
    "### for loop\n",
    "- The ‘for loop’ in Python is used to iterate over the items of a sequence object like list, tuple, string and other iterable objects\n",
    "- The iteration continues until we reach the last item in the sequence object\n",
    "- Counter driven loop\n",
    "- This loop is used when the number of times to iterate is predefined"
   ]
  },
  {
   "cell_type": "markdown",
   "metadata": {},
   "source": [
    "##### Ex. WAP to accept characters from user till he enters \"q\". Print string of all the characters entered by the user"
   ]
  },
  {
   "cell_type": "code",
   "execution_count": 3,
   "metadata": {},
   "outputs": [
    {
     "name": "stdout",
     "output_type": "stream",
     "text": [
      "Enter chara\n",
      "Enter chart\n",
      "Enter charq\n"
     ]
    }
   ],
   "source": [
    "ch=input('Enter char')\n",
    "while ch!='q':\n",
    "    ch=input('Enter char')"
   ]
  },
  {
   "cell_type": "markdown",
   "metadata": {},
   "source": [
    "##### Ex. Initialize n = 100, Iteratively divide n by 3 till n != 0"
   ]
  },
  {
   "cell_type": "code",
   "execution_count": 9,
   "metadata": {},
   "outputs": [
    {
     "name": "stdout",
     "output_type": "stream",
     "text": [
      "33 1\n",
      "11 2\n",
      "3 3\n",
      "1 4\n",
      "0 5\n"
     ]
    }
   ],
   "source": [
    "n=100\n",
    "c=0\n",
    "while n!=0:          # use flored division only else it will take too much time\n",
    "    n//=3\n",
    "    c+=1\n",
    "    print(n,c)\n"
   ]
  },
  {
   "cell_type": "markdown",
   "metadata": {},
   "source": [
    "##### WAP to count the number of digits in a number entered by user\n",
    "i/p - 1234 o/p - 4"
   ]
  },
  {
   "cell_type": "code",
   "execution_count": 21,
   "metadata": {},
   "outputs": [
    {
     "name": "stdout",
     "output_type": "stream",
     "text": [
      "78\n",
      "count is 2 and sum is 15\n"
     ]
    }
   ],
   "source": [
    "# ------using for loop----------\n",
    "\n",
    "user=int(input())\n",
    "c=0\n",
    "sm=0\n",
    "while user!=0:\n",
    "    sm+=user%10\n",
    "    user=user//10\n",
    "    c+=1\n",
    "print('count is {} and sum is {}'.format(c,sm))"
   ]
  },
  {
   "cell_type": "markdown",
   "metadata": {},
   "source": [
    "##### Ex. WAP to modify the 7up-7down game, keep playing the game till user decides to quit or he out of balance"
   ]
  },
  {
   "cell_type": "markdown",
   "metadata": {},
   "source": [
    "Ex. 7up and 7down\n",
    "WAP to simulate the below mentioned scenario -\n",
    "1. Player enters the game with initial amount as Rs. 1,000/-\n",
    "2. Generate a random value between 1 to 14 and store it in variable \"outcome\"\n",
    "3. if outcome = 7, player hits a jackpot and wins Rs. 1,00,00,000.\n",
    "4. if outcome < 7, player looses amount by (outcome*100)\n",
    "5. if outcome > 7, player earns amount by (outcome*100)\n"
   ]
  },
  {
   "cell_type": "code",
   "execution_count": 59,
   "metadata": {},
   "outputs": [
    {
     "name": "stdout",
     "output_type": "stream",
     "text": [
      "1900\n",
      "Do you wnat to continue: yes\n",
      "1300\n",
      "Do you wnat to continue: yes\n",
      "2500\n",
      "Do you wnat to continue: yes\n",
      "2200\n",
      "Do you wnat to continue: yes\n",
      "1600\n",
      "Do you wnat to continue: yes\n",
      "2600\n",
      "Do you wnat to continue: yes\n",
      "3800\n",
      "Do you wnat to continue: yes\n",
      "3200\n",
      "Do you wnat to continue: yes\n",
      "3000\n",
      "Do you wnat to continue: yes\n",
      "2800\n",
      "Do you wnat to continue: no\n",
      "2800\n"
     ]
    }
   ],
   "source": [
    "import random as r\n",
    "amount=1000\n",
    "user=r.randint(1,14)\n",
    "user_decition='yes'\n",
    "while user_decition!='no' and amount!=0: \n",
    "    outcome=r.randint(1,14)\n",
    "    if outcome==7:\n",
    "        amount+=10000000\n",
    "    elif outcome<7:\n",
    "        amount-=(outcome*100)\n",
    "    else:\n",
    "        amount+=(outcome*100)\n",
    "    print(amount)\n",
    "    user_decition=input('Do you wnat to continue: ')\n",
    "   \n",
    "    \n",
    "print(amount)\n",
    "        "
   ]
  },
  {
   "cell_type": "markdown",
   "metadata": {},
   "source": [
    "##### Ex. WAP to take a word as an input and print all the characters"
   ]
  },
  {
   "cell_type": "code",
   "execution_count": 22,
   "metadata": {},
   "outputs": [
    {
     "name": "stdout",
     "output_type": "stream",
     "text": [
      "bijali\n",
      "b\n",
      "i\n",
      "j\n",
      "a\n",
      "l\n",
      "i\n"
     ]
    }
   ],
   "source": [
    "word=input()\n",
    "for i in word:\n",
    "    print(i)"
   ]
  },
  {
   "cell_type": "markdown",
   "metadata": {},
   "source": [
    "##### Ex. Write a python code to print the product of all elements in the numbers = [6, 5, 3, 8, 4, 2, 5, 4, 11, 43]?"
   ]
  },
  {
   "cell_type": "code",
   "execution_count": 33,
   "metadata": {},
   "outputs": [
    {
     "name": "stdout",
     "output_type": "stream",
     "text": [
      "8\n"
     ]
    }
   ],
   "source": [
    "prod=1\n",
    "numbers = [1,5,8]\n",
    "for i in numbers:\n",
    "    if i%2==0:\n",
    "        prod*=i\n",
    "print(prod)"
   ]
  },
  {
   "cell_type": "markdown",
   "metadata": {},
   "source": [
    "##### Ex. WAP to perform product and summation of first 10 natural numbers"
   ]
  },
  {
   "cell_type": "code",
   "execution_count": 43,
   "metadata": {},
   "outputs": [
    {
     "name": "stdout",
     "output_type": "stream",
     "text": [
      "55 3628800\n"
     ]
    }
   ],
   "source": [
    "prod=1\n",
    "sm=0\n",
    "num=10\n",
    "while num!=0:\n",
    "    sm+=num\n",
    "    prod*=num\n",
    "    num-=1\n",
    "print(sm,prod)"
   ]
  },
  {
   "cell_type": "markdown",
   "metadata": {},
   "source": [
    "##### Ex. WAP to perform product of first 10 natural numbers"
   ]
  },
  {
   "cell_type": "code",
   "execution_count": 31,
   "metadata": {},
   "outputs": [
    {
     "name": "stdout",
     "output_type": "stream",
     "text": [
      "55\n"
     ]
    }
   ],
   "source": [
    "sm=0\n",
    "\n",
    "num=10\n",
    "while num!=0:\n",
    "    sm+=num\n",
    "    \n",
    "    num-=1\n",
    "print(sm)"
   ]
  },
  {
   "cell_type": "markdown",
   "metadata": {},
   "source": [
    "##### Ex. WAP to accept a word from user and print vowels in the word"
   ]
  },
  {
   "cell_type": "code",
   "execution_count": 53,
   "metadata": {},
   "outputs": [
    {
     "name": "stdout",
     "output_type": "stream",
     "text": [
      "bijali\n",
      "a i\n"
     ]
    }
   ],
   "source": [
    "user=input()\n",
    "s=set()\n",
    "for i in user:\n",
    "    if i.lower() in 'aeiou':\n",
    "        s.add(i)\n",
    "print(' '.join(s))\n",
    "    "
   ]
  },
  {
   "cell_type": "code",
   "execution_count": 47,
   "metadata": {},
   "outputs": [
    {
     "name": "stdout",
     "output_type": "stream",
     "text": [
      "bijali\n",
      "i\n",
      "a\n"
     ]
    }
   ],
   "source": [
    "user=input()\n",
    "s=''\n",
    "for i in user:\n",
    "    if i.lower() in 'aeiou' and (i not in s):\n",
    "        print(i)\n",
    "        s+=i"
   ]
  },
  {
   "cell_type": "code",
   "execution_count": 48,
   "metadata": {},
   "outputs": [
    {
     "name": "stdout",
     "output_type": "stream",
     "text": [
      "a\n",
      "i\n"
     ]
    }
   ],
   "source": [
    "for i in 'aeiou':\n",
    "    if i in user:\n",
    "        print(i)"
   ]
  },
  {
   "cell_type": "markdown",
   "metadata": {},
   "source": [
    "##### Ex. WAP to accept an integer from user and print a table for given number."
   ]
  },
  {
   "cell_type": "markdown",
   "metadata": {},
   "source": [
    "3 x 1 = 3 <br>\n",
    ".<br>\n",
    ".<br>\n",
    "3 x 10 = 30"
   ]
  },
  {
   "cell_type": "code",
   "execution_count": 50,
   "metadata": {},
   "outputs": [
    {
     "name": "stdout",
     "output_type": "stream",
     "text": [
      "3\n",
      "3 x 1 = 3\n",
      "3 x 2 = 6\n",
      "3 x 3 = 9\n",
      "3 x 4 = 12\n",
      "3 x 5 = 15\n",
      "3 x 6 = 18\n",
      "3 x 7 = 21\n",
      "3 x 8 = 24\n",
      "3 x 9 = 27\n",
      "3 x 10 = 30\n"
     ]
    }
   ],
   "source": [
    "user=int(input())\n",
    "for i in range(1,11):\n",
    "    print(user,'x',i,'=',i*user)"
   ]
  },
  {
   "cell_type": "markdown",
   "metadata": {},
   "source": [
    "### break statement\n",
    "- The ‘break’ statement ends the loop and resumes execution at the next statement\n",
    "- The break statement can be used in both ‘while’ loop and ‘for’ loop\n",
    "- It is always used with conditional statements\n",
    "\n",
    "### continue statement\n",
    "- The ‘continue’ statement in Python ignores all the remaining statements in the iteration of the current loop and moves the control back to the beginning of the loop\n",
    "- The continue statement can be used in both ‘while’ loop and ‘for’ loop\n",
    "- It is always used with conditional statements"
   ]
  },
  {
   "cell_type": "markdown",
   "metadata": {},
   "source": [
    "##### Ex. WAP to print all the numbers between 1 - 50 skipping multiples of 3"
   ]
  },
  {
   "cell_type": "code",
   "execution_count": 52,
   "metadata": {},
   "outputs": [
    {
     "name": "stdout",
     "output_type": "stream",
     "text": [
      "1\n",
      "2\n",
      "4\n",
      "5\n",
      "7\n",
      "8\n"
     ]
    }
   ],
   "source": [
    "for i in range(1,10):\n",
    "    if i%3==0:\n",
    "        continue\n",
    "    print(i)"
   ]
  },
  {
   "cell_type": "code",
   "execution_count": null,
   "metadata": {},
   "outputs": [],
   "source": [
    "\n"
   ]
  },
  {
   "cell_type": "code",
   "execution_count": null,
   "metadata": {},
   "outputs": [],
   "source": []
  }
 ],
 "metadata": {
  "kernelspec": {
   "display_name": "Python 3",
   "language": "python",
   "name": "python3"
  },
  "language_info": {
   "codemirror_mode": {
    "name": "ipython",
    "version": 3
   },
   "file_extension": ".py",
   "mimetype": "text/x-python",
   "name": "python",
   "nbconvert_exporter": "python",
   "pygments_lexer": "ipython3",
   "version": "3.8.3"
  }
 },
 "nbformat": 4,
 "nbformat_minor": 2
}
