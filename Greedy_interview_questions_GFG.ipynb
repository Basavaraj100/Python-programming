{
 "cells": [
  {
   "cell_type": "markdown",
   "metadata": {},
   "source": [
    "## <font color=red> Q1) Activity selection <fonts/>"
   ]
  },
  {
   "cell_type": "code",
   "execution_count": null,
   "metadata": {},
   "outputs": [],
   "source": [
    "def maximumActivities(n,start,end):\n",
    "    '''\n",
    "    :param n: number of activities\n",
    "    :param start: start time of activities\n",
    "    :param end: corresponding end time of activities\n",
    "    :return: Integer, maximum number of activities\n",
    "    '''\n",
    "    # code here\n",
    "    m=sorted(list(zip(start,end)),key=lambda x:x[-1])\n",
    "    # ans=[]\n",
    "    count=1\n",
    "    i=0\n",
    "    j=1\n",
    "    while j<len(m):\n",
    "        if m[i][-1]<=m[j][0]:\n",
    "            count+=1\n",
    "            i=j\n",
    "            j+=1\n",
    "        else:\n",
    "            j+=1\n",
    "    return count"
   ]
  },
  {
   "cell_type": "markdown",
   "metadata": {},
   "source": [
    "## <font color=red> Q2) N meeting in one room <fonts/>\n",
    "> Trick is sort according to end time then u need to traverse through array one time only "
   ]
  },
  {
   "cell_type": "code",
   "execution_count": null,
   "metadata": {},
   "outputs": [],
   "source": [
    "def maximumMeetings(n,start,end):\n",
    "    # code here\n",
    "    m=sorted(list(zip(start,end)),key=lambda x:x[-1])\n",
    "    i=0\n",
    "    j=1\n",
    "    c=1\n",
    "    while j<len(m):\n",
    "        if m[j][0]>m[i][-1]:\n",
    "            c+=1\n",
    "            i=j\n",
    "            j+=1\n",
    "        else:\n",
    "            j+=1\n",
    "    return c"
   ]
  },
  {
   "cell_type": "markdown",
   "metadata": {},
   "source": [
    "## <font color=red> Q3) coin piles <fonts/>"
   ]
  },
  {
   "cell_type": "code",
   "execution_count": 2,
   "metadata": {},
   "outputs": [
    {
     "name": "stdout",
     "output_type": "stream",
     "text": [
      "1\n",
      "5 5\n",
      "5 18 23 100 150\n",
      "91\n"
     ]
    }
   ],
   "source": [
    "T=int(input())\n",
    "for i in range(T):\n",
    "    N,K=map(int,input().split())\n",
    "    pile=list(map(int,input().split()))\n",
    "    pile=sorted(pile)\n",
    "    \n",
    "    res=[]\n",
    "    \n",
    "    for m in range(len(pile)):\n",
    "        a=pile[m]\n",
    "        temp=0\n",
    "        for j in range(-1,-(len(pile)-m)-1,-1):\n",
    "            if pile[j]-a>K:\n",
    "                temp+=pile[j]-a-K\n",
    "            else:\n",
    "                break\n",
    "        res.append(sum(pile[0:m])+temp)\n",
    "    print(min(res))"
   ]
  },
  {
   "cell_type": "markdown",
   "metadata": {},
   "source": [
    "## <font color=red> Q4) maximize toys <fonts/>\n",
    ">Given an array arr of length N consisting cost of toys. Given an integer K depicting the amount with you. The task is to Maximise the number of different toys you can have with K amount. "
   ]
  },
  {
   "cell_type": "code",
   "execution_count": 3,
   "metadata": {},
   "outputs": [
    {
     "name": "stdout",
     "output_type": "stream",
     "text": [
      "3\n"
     ]
    }
   ],
   "source": [
    "def toyCount( N, K, arr):\n",
    "        # code here\n",
    "        arr.sort()\n",
    "        j=0\n",
    "        c=0\n",
    "        while j<len(arr) and K>0:\n",
    "            if arr[j]<=K:\n",
    "                c+=1\n",
    "                K-=arr[j]\n",
    "                j+=1\n",
    "        return c\n",
    "        \n",
    "        \n",
    "        \n",
    "print(toyCount( 3, 100, [20,30,50]))"
   ]
  },
  {
   "cell_type": "code",
   "execution_count": 4,
   "metadata": {},
   "outputs": [
    {
     "data": {
      "application/javascript": [
       "\n",
       "        if (window._pyforest_update_imports_cell) { window._pyforest_update_imports_cell('import numpy as np'); }\n",
       "    "
      ],
      "text/plain": [
       "<IPython.core.display.Javascript object>"
      ]
     },
     "metadata": {},
     "output_type": "display_data"
    },
    {
     "data": {
      "application/javascript": [
       "\n",
       "        if (window._pyforest_update_imports_cell) { window._pyforest_update_imports_cell('import numpy as np'); }\n",
       "    "
      ],
      "text/plain": [
       "<IPython.core.display.Javascript object>"
      ]
     },
     "metadata": {},
     "output_type": "display_data"
    },
    {
     "name": "stdout",
     "output_type": "stream",
     "text": [
      "[array([[ 8,  7],\n",
      "       [ 2, -3],\n",
      "       [ 8,  5]]), array([[ 0,  9],\n",
      "       [ 5, 10],\n",
      "       [-1,  3]])]\n"
     ]
    }
   ],
   "source": [
    "myB = np.array([[8, 7, 0, 9], [2, -3, 5, 10], [8, 5, -1,3]])\n",
    "print(np.hsplit (myB,2))\n"
   ]
  },
  {
   "cell_type": "markdown",
   "metadata": {},
   "source": [
    "## <font color=red> Q4.1) Find the overlap <fonts/>\n",
    "> Given two events of whose starting and end dates are given find if there is any overlap if yes what is the overlap"
   ]
  },
  {
   "cell_type": "code",
   "execution_count": 13,
   "metadata": {},
   "outputs": [
    {
     "name": "stdout",
     "output_type": "stream",
     "text": [
      "6\n",
      "0\n",
      "10\n",
      "2\n"
     ]
    }
   ],
   "source": [
    "def overlap(s1,e1,s2,e2):\n",
    "    l=[(s1,e1),(s2,e2)]\n",
    "    l=sorted(l,key=lambda x:x[0])\n",
    "    if (((e1-s1)+(e2-s2))-(max(e1,e2)-(min(s1,s2))))>=0:\n",
    "        return (((e1-s1)+(e2-s2))-(max(e1,e2)-(min(s1,s2))))\n",
    "    else:\n",
    "        return 0\n",
    "print(overlap(30,40,2,36))\n",
    "print(overlap(0,10,15,50))\n",
    "print(overlap(0,10,0,50))\n",
    "print(overlap(8,10,0,50))"
   ]
  },
  {
   "cell_type": "markdown",
   "metadata": {},
   "source": [
    "## <font color=red> Q4.1) Page Faults in LRU <fonts/>\n",
    ">In operating systems that use paging for memory management, page replacement algorithm are needed to decide which page needs to be replaced when the new page comes in. Whenever a new page is referred and is not present in memory, the page fault occurs and Operating System replaces one of the existing pages with a newly needed page. Given a sequence of pages and memory capacity, your task is to find the number of page faults using Least Recently Used (LRU) Algorithm."
   ]
  },
  {
   "cell_type": "code",
   "execution_count": 1,
   "metadata": {},
   "outputs": [
    {
     "name": "stdout",
     "output_type": "stream",
     "text": [
      "1\n",
      "9\n",
      "5 0 1 3 2 4 1 0 5\n",
      "4\n",
      "8\n"
     ]
    }
   ],
   "source": [
    "\n",
    "T=int(input())\n",
    "for i in range(T):\n",
    "    n=int(input())\n",
    "    # pages=list(map(int,input().split()))\n",
    "    # mem_cap=int(input())\n",
    "    # f=0\n",
    "    # ans=[-1 for j in range(mem_cap)]\n",
    "    \n",
    "    # for p in pages:\n",
    "    #     if (-1 not in ans) and (p not in ans):\n",
    "    #         ans.pop(0)\n",
    "    #         ans.append(p)\n",
    "    #         f+=1\n",
    "    #     elif  (-1 in ans) and (p not in ans) :\n",
    "    #         ans[ans.index(-1)]=p\n",
    "    #         f+=1\n",
    "            \n",
    "    #     elif (-1 not in ans) and (p  in ans):\n",
    "    #         m=ans.pop(ans.index(p))\n",
    "    #         ans.append(m)\n",
    "    #     elif (-1 in ans) and (p  in ans):\n",
    "    #         ans[ans.index(-1)]=ans.pop(ans.index(p))\n",
    "            \n",
    "    # print(f)\n",
    "    # Python3 program for page replacement algorithm \n",
    "  \n",
    "# Driver code \n",
    "    \n",
    "    processList = list(map(int,input().split()))\n",
    "    capacity = int(input())\n",
    "                  \n",
    "# List of current pages in Main Memory \n",
    "    s = []  \n",
    "  \n",
    "    pageFaults = 0\n",
    "# pageHits = 0 \n",
    "  \n",
    "    for i in processList: \n",
    "  \n",
    "    # If i is not present in currentPages list \n",
    "        if i not in s: \n",
    "  \n",
    "        # Check if the list can hold equal pages \n",
    "            if(len(s) == capacity): \n",
    "                s.remove(s[0]) \n",
    "                s.append(i) \n",
    "  \n",
    "            else: \n",
    "                s.append(i) \n",
    "  \n",
    "        # Increment Page faults \n",
    "            pageFaults +=1\n",
    "  \n",
    "    # If page is already there in  \n",
    "    # currentPages i.e in Main \n",
    "        else: \n",
    "          \n",
    "        # Remove previous index of current page \n",
    "            s.remove(i) \n",
    "  \n",
    "        # Now append it, at last index \n",
    "            s.append(i) \n",
    "      \n",
    "    print(pageFaults) \n",
    "  \n",
    "\n",
    "        \n",
    "    \n",
    "    \n",
    "    \n",
    "    \n",
    "    \n",
    "    \n",
    "#     for p in pages:\n",
    "#         if (-1 not in ans) and (p not in ans):\n",
    "#             ans.pop(0)\n",
    "#             ans.append(p)\n",
    "#             f+=1\n",
    "#         elif  (-1 in ans) and (p not in ans) :\n",
    "#             ans[ans.index(-1)]=p\n",
    "#             f+=1\n",
    "            \n",
    "#         elif (-1 not in ans) and (p  in ans):\n",
    "#             m=ans.pop(ans.index(p))\n",
    "#             ans.append(m)\n",
    "#         elif (-1 in ans) and (p  in ans):\n",
    "#             ans[ans.index(-1)]=ans.pop(ans.index(p))\n",
    "            \n",
    "#     print(f)"
   ]
  },
  {
   "cell_type": "markdown",
   "metadata": {},
   "source": [
    "## <font color=red> Q5) Largest number possible <fonts/>\n",
    "> Given two numbers 'N' and 'S' , find the largest number that can be formed with 'N' digits and whose sum of digits should be equals to 'S'."
   ]
  },
  {
   "cell_type": "code",
   "execution_count": 15,
   "metadata": {},
   "outputs": [
    {
     "name": "stdout",
     "output_type": "stream",
     "text": [
      "990\n"
     ]
    }
   ],
   "source": [
    "def findLargest( N, S):\n",
    "        # code here\n",
    "    if S>9*N:\n",
    "        return -1\n",
    "    else:\n",
    "        a=[0 for i in range(N)]\n",
    "        i=0\n",
    "        while i<len(a):\n",
    "            if S>9:\n",
    "                a[i]=str(9)\n",
    "                S-=9\n",
    "            else:\n",
    "                a[i]=str(S)\n",
    "                S=0\n",
    "            i+=1\n",
    "                \n",
    "        \n",
    "         \n",
    "    if a.count('0')==len(a) and len(a)>1:\n",
    "        return -1\n",
    "    else:\n",
    "        return ''.join(a)\n",
    "    \n",
    "print(findLargest( 3, 18))\n",
    "        "
   ]
  },
  {
   "cell_type": "markdown",
   "metadata": {},
   "source": [
    "### <font color=red>  minimize the heights <fonts/>\n",
    ">Given an array arr[] denoting heights of N towers and a positive integer K, you have to modify the height of each tower either by increasing or decreasing them by K only once. After modifying, height should be a non-negative integer. \n",
    "Find out what could be the possible minimum difference of the height of shortest and longest towers after you have modified each tower."
   ]
  },
  {
   "cell_type": "code",
   "execution_count": 17,
   "metadata": {},
   "outputs": [
    {
     "ename": "ValueError",
     "evalue": "max() arg is an empty sequence",
     "output_type": "error",
     "traceback": [
      "\u001b[1;31m---------------------------------------------------------------------------\u001b[0m",
      "\u001b[1;31mValueError\u001b[0m                                Traceback (most recent call last)",
      "\u001b[1;32m<ipython-input-17-a48d8f8c12de>\u001b[0m in \u001b[0;36m<module>\u001b[1;34m\u001b[0m\n\u001b[1;32m----> 1\u001b[1;33m \u001b[0mmax\u001b[0m\u001b[1;33m(\u001b[0m\u001b[1;33m[\u001b[0m\u001b[1;33m]\u001b[0m\u001b[1;33m)\u001b[0m\u001b[1;33m\u001b[0m\u001b[1;33m\u001b[0m\u001b[0m\n\u001b[0m",
      "\u001b[1;31mValueError\u001b[0m: max() arg is an empty sequence"
     ]
    }
   ],
   "source": [
    "max([])"
   ]
  },
  {
   "cell_type": "markdown",
   "metadata": {},
   "source": [
    "### <font color=red> Minimize the sum of product <fonts/>\n",
    ">You are given two arrays, A and B, of equal size N. The task is to find the minimum value of A[0] * B[0] + A[1] * B[1] +…+ A[N-1] * B[N-1], where shuffling of elements of arrays A and B is allowed."
   ]
  },
  {
   "cell_type": "code",
   "execution_count": 19,
   "metadata": {},
   "outputs": [
    {
     "name": "stdout",
     "output_type": "stream",
     "text": [
      "60\n"
     ]
    }
   ],
   "source": [
    "\n",
    "def minValue( a, b, n):\n",
    "    # Your code goes here\n",
    "    a=sorted(a)\n",
    "    b=sorted(b,reverse=True)\n",
    "    ans=0\n",
    "    for i in range(len(a)):\n",
    "        ans+=(a[i]*b[i])\n",
    "    return ans\n",
    "    \n",
    "    \n",
    "print(minValue([8,4,5],[1,4,8],3))"
   ]
  },
  {
   "cell_type": "markdown",
   "metadata": {},
   "source": [
    "### <font color=red> Shop in Candy Store <fonts/>\n",
    ">In a candy store there are N different types of candies available  and the prices of all the N different types of candies are provided to you.\n",
    "You are now provided with an attractive offer.\n",
    "You can buy a single candy from the store and get K other candies ( all are different types ) for free.\n",
    "Now you have to answer two questions. Firstly, you have to tell what is the minimum amount of money you have to spend to buy all the N different candies. Secondly, you have to tell what is the maximum amount of money you have to spend to buy all the N different candies.\n",
    "In both the cases you must utilize the offer i.e. you buy one candy and get K other candies for free."
   ]
  },
  {
   "cell_type": "code",
   "execution_count": 23,
   "metadata": {},
   "outputs": [
    {
     "name": "stdout",
     "output_type": "stream",
     "text": [
      "1\n",
      "4 2\n",
      "3 2 1 4\n",
      "3 7\n"
     ]
    }
   ],
   "source": [
    "T=int(input())\n",
    "for p in range(T):\n",
    "    n,k=list(map(int,input().split()))\n",
    "    price=list(map(int,input().split()))\n",
    "    a=sorted(price)\n",
    "    i=0\n",
    "    j=len(a)-1\n",
    "    min_amt=0\n",
    "    max_amt=0\n",
    "    while i<=j:\n",
    "        min_amt+=a[i]\n",
    "        i+=1\n",
    "        j-=k\n",
    "    a=sorted(price,reverse=True)    \n",
    "    i=0\n",
    "    j=len(a)-1\n",
    "    while i<=j:\n",
    "        max_amt+=a[i]\n",
    "        i+=1\n",
    "        j-=k\n",
    "        \n",
    "    print(min_amt,max_amt)\n",
    "    "
   ]
  },
  {
   "cell_type": "code",
   "execution_count": null,
   "metadata": {},
   "outputs": [],
   "source": []
  }
 ],
 "metadata": {
  "kernelspec": {
   "display_name": "Python 3",
   "language": "python",
   "name": "python3"
  },
  "language_info": {
   "codemirror_mode": {
    "name": "ipython",
    "version": 3
   },
   "file_extension": ".py",
   "mimetype": "text/x-python",
   "name": "python",
   "nbconvert_exporter": "python",
   "pygments_lexer": "ipython3",
   "version": "3.8.3"
  }
 },
 "nbformat": 4,
 "nbformat_minor": 4
}
