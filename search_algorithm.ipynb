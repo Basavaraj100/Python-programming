{
 "cells": [
  {
   "cell_type": "markdown",
   "metadata": {},
   "source": [
    "# <font color='red'> Binary searcg algorithm</font>"
   ]
  },
  {
   "cell_type": "markdown",
   "metadata": {},
   "source": [
    "##### Question1)Given a sorted unique elemented array return index of asked element in array if not found return -1"
   ]
  },
  {
   "cell_type": "code",
   "execution_count": 1,
   "metadata": {},
   "outputs": [
    {
     "name": "stdout",
     "output_type": "stream",
     "text": [
      "4\n"
     ]
    }
   ],
   "source": [
    "arr=[2,5,8,10,15,16,19]\n",
    "def bin_serch(arr,val):\n",
    "    start=0\n",
    "    end=len(arr)-1\n",
    "    while start<=end:\n",
    "        mid=end+((start-end)//2)   #     OR  mid=(start+end)//2  \n",
    "       \n",
    "         \n",
    "        if arr[mid]==val:\n",
    "            return mid\n",
    "        elif val>arr[mid]:\n",
    "            start=mid+1\n",
    "\n",
    "        else:\n",
    "            end=mid-1\n",
    "    return -1\n",
    "\n",
    "val=15\n",
    "print(bin_serch(arr,val))\n",
    "        "
   ]
  },
  {
   "cell_type": "markdown",
   "metadata": {},
   "source": [
    "##### Question2)Find the index of given value in  sorted array if not found return -1 u dont know whether it is sorted ascending or descending"
   ]
  },
  {
   "cell_type": "code",
   "execution_count": 15,
   "metadata": {},
   "outputs": [
    {
     "data": {
      "text/plain": [
       "[19, 16, 15, 10, 8, 5, 2]"
      ]
     },
     "execution_count": 15,
     "metadata": {},
     "output_type": "execute_result"
    }
   ],
   "source": [
    "arr=[2,5,8,10,15,16,19]\n",
    "arr=sorted(arr,reverse=True)\n",
    "arr"
   ]
  },
  {
   "cell_type": "code",
   "execution_count": 17,
   "metadata": {},
   "outputs": [
    {
     "name": "stdout",
     "output_type": "stream",
     "text": [
      "2\n"
     ]
    }
   ],
   "source": [
    "def order_agnostic_search(arr,val):\n",
    "    start=0\n",
    "    end=len(arr)-1\n",
    "    if arr[start]>arr[end]:    # descending  and  should contain no repeated elements\n",
    "        while start<=end:\n",
    "            mid=end+((start-end)//2)\n",
    "            if arr[mid]==val:\n",
    "                return mid\n",
    "            elif val>arr[mid]:\n",
    "                end=mid-1\n",
    "            else:\n",
    "                start=mid+1\n",
    "    else:\n",
    "        while start>=end:\n",
    "            mid=start+((end-start)//2)\n",
    "            if arr[mid]==val:\n",
    "                return mid\n",
    "            elif val>arr[mid]:\n",
    "                start=mid+1\n",
    "            else:\n",
    "                end=mid-1\n",
    "    return -1\n",
    "\n",
    "\n",
    "print(order_agnostic_search(arr,15))\n",
    "            "
   ]
  },
  {
   "cell_type": "markdown",
   "metadata": {},
   "source": [
    "##### Question3)find index of given value in descending ordered array"
   ]
  },
  {
   "cell_type": "code",
   "execution_count": 5,
   "metadata": {},
   "outputs": [
    {
     "name": "stdout",
     "output_type": "stream",
     "text": [
      "6\n"
     ]
    }
   ],
   "source": [
    "arr=[19,16,15,10,8,7,5,2,1]\n",
    "\n",
    "val=5\n",
    "def bin_search_rev(arr,val):\n",
    "    start=0\n",
    "    end=len(arr)-1\n",
    "    while start<=end:\n",
    "        mid=start+((end-start)//2)\n",
    "        if arr[mid]==val:\n",
    "            return mid\n",
    "        elif val>arr[mid]:\n",
    "            end=mid-1\n",
    "        else:\n",
    "            start=mid+1\n",
    "    return -1\n",
    "    \n",
    "print(bin_search_rev(arr,val))"
   ]
  },
  {
   "cell_type": "markdown",
   "metadata": {},
   "source": [
    "#### Question4)**find the first occurance**  of element  in ascending ordered array but contain repeated elements"
   ]
  },
  {
   "cell_type": "code",
   "execution_count": 7,
   "metadata": {},
   "outputs": [
    {
     "name": "stdout",
     "output_type": "stream",
     "text": [
      "5\n"
     ]
    }
   ],
   "source": [
    "arr=[1,2,3,4,5,6,6,7,8,9,9,9,15]\n",
    "val=6    \n",
    "\n",
    "def first_occurence(arr,val):\n",
    "    start=0\n",
    "    end=len(arr)-1\n",
    "    ans=-1\n",
    "    while start<=end:\n",
    "        mid=(start+end)//2\n",
    "        if arr[mid]==val:\n",
    "            ans=mid\n",
    "            end=mid-1\n",
    "        elif val>arr[mid]:\n",
    "            start=mid+1\n",
    "        else:\n",
    "            end=mid-1\n",
    "    return ans\n",
    "\n",
    "print(first_occurence(arr,val))  # function should return 5\n",
    "            \n",
    "    "
   ]
  },
  {
   "cell_type": "markdown",
   "metadata": {},
   "source": [
    "##### Question5) find the index of last occurance of an element in ascending ordered array containing repeated elements"
   ]
  },
  {
   "cell_type": "code",
   "execution_count": 9,
   "metadata": {},
   "outputs": [
    {
     "name": "stdout",
     "output_type": "stream",
     "text": [
      "6\n"
     ]
    }
   ],
   "source": [
    "arr=[1,2,3,4,5,6,6,7,8,9,9,9,15]\n",
    "val=6\n",
    "def last_occured(arr,val):\n",
    "    start=0\n",
    "    end=len(arr)-1\n",
    "    ans=-1\n",
    "    while start<=end:\n",
    "        mid=(start+end)//2\n",
    "        if arr[mid]==val:\n",
    "            ans=mid\n",
    "            start=mid+1\n",
    "        elif arr[mid]>val:\n",
    "            end=mid-1\n",
    "        else:\n",
    "            start=mid+1\n",
    "    return ans\n",
    "\n",
    "print(last_occured(arr,val))\n",
    "        "
   ]
  },
  {
   "cell_type": "markdown",
   "metadata": {},
   "source": [
    "##### Question6) Find the number of times given value appeared in sorted array\n",
    "> trick--> Find the last occurence index and firts occurence index return last -first+1"
   ]
  },
  {
   "cell_type": "code",
   "execution_count": 11,
   "metadata": {},
   "outputs": [
    {
     "name": "stdout",
     "output_type": "stream",
     "text": [
      "3\n"
     ]
    }
   ],
   "source": [
    "\n",
    "\n",
    "arr=[1,1,1,2,3,4,5,6,6,7,8,9,9,9,15]\n",
    "val=9\n",
    "\n",
    "def count_val(arr,val):\n",
    "    if len(arr)==1:\n",
    "        return 1\n",
    "    else:\n",
    "        start=0\n",
    "        end=len(arr)-1\n",
    "        starting_ind=0\n",
    "        while start<=end:\n",
    "            mid=(start+end)//2\n",
    "            if arr[mid]==val:\n",
    "                starting_ind=mid\n",
    "                end=mid-1\n",
    "            elif val>arr[mid]:\n",
    "                start=mid+1\n",
    "            else:\n",
    "                end=mid-1\n",
    "        end_ind=0\n",
    "        start=0\n",
    "        end=len(arr)-1\n",
    "        while start<=end:\n",
    "            mid=(start+end)//2\n",
    "            if arr[mid]==val:\n",
    "                end_ind=mid\n",
    "                start=mid+1\n",
    "            elif val>arr[mid]:\n",
    "                start=mid+1\n",
    "            else:\n",
    "                end=mid-1\n",
    "\n",
    "    return (end_ind-starting_ind)+1\n",
    "\n",
    "print(count_val(arr,val))\n",
    "        \n",
    "                "
   ]
  },
  {
   "cell_type": "markdown",
   "metadata": {},
   "source": [
    "##### Question6)  Given a array return number of rotations in the array (imp)\n",
    " example arr[5,7,8,9,1,2,3,4]  number of rotaion=4"
   ]
  },
  {
   "cell_type": "code",
   "execution_count": 51,
   "metadata": {},
   "outputs": [
    {
     "name": "stdout",
     "output_type": "stream",
     "text": [
      "4\n"
     ]
    }
   ],
   "source": [
    "arr=[5,7,8,9,1,2,3,4]\n",
    "n=len(arr)\n",
    "def count_rotation(arr,n):\n",
    "    start=0\n",
    "    end=len(arr)-1\n",
    "    while start<=end:\n",
    "        mid=(start+end)//2\n",
    "        prev=(mid+n-1)%n\n",
    "        nxt=(mid+1)%n\n",
    "        if arr[mid]<arr[prev] and arr[mid]<arr[nxt]:\n",
    "            return mid\n",
    "        if arr[start]<arr[mid]:\n",
    "            start=mid\n",
    "        if arr[end]>arr[mid]:\n",
    "            end=mid\n",
    "    return 0\n",
    "print(count_rotation(arr,n))"
   ]
  },
  {
   "cell_type": "markdown",
   "metadata": {},
   "source": [
    "##### Question7) find the value in sorted and rotated array\n",
    "> trick--> first find the index number of rotation in given array\n",
    " make two list before that index one list and after that index one list ,now apply binary search for both list\n",
    " and find the value in eithe of list if its in fisrt list just return index \n",
    "if its in second index return number of rotation + that index\n"
   ]
  },
  {
   "cell_type": "code",
   "execution_count": 12,
   "metadata": {},
   "outputs": [
    {
     "name": "stdout",
     "output_type": "stream",
     "text": [
      "6\n"
     ]
    }
   ],
   "source": [
    "\n",
    "\n",
    "\n",
    "def search_val_rotated(arr,val):\n",
    "    def bin_search(arr,val):\n",
    "        start=0\n",
    "        end=len(arr)-1\n",
    "        \n",
    "        while start<=end:\n",
    "            mid=(start+end)//2\n",
    "            if arr[mid]==val:\n",
    "                return mid\n",
    "            elif val>arr[mid]:\n",
    "                start=mid+1\n",
    "            else:\n",
    "                end=mid-1\n",
    "        return-1\n",
    "    def count_rotation(arr):\n",
    "        start=0\n",
    "        end=len(arr)-1\n",
    "        while start<=end:\n",
    "            mid=(start+end)//2\n",
    "            prev=(mid+len(arr)-1)%len(arr)\n",
    "            nxt=(mid+1)%len(arr)\n",
    "            if arr[mid]<arr[prev] and arr[mid]<arr[nxt]:\n",
    "                return mid\n",
    "            if arr[start]<arr[mid]:\n",
    "                start=mid\n",
    "            if arr[end]>arr[mid]:\n",
    "                end=mid\n",
    "        return-1\n",
    "    a=count_rotation(arr)\n",
    "    if a!=-1:\n",
    "        \n",
    "        \n",
    "        l1=arr[0:a]\n",
    "        l2=arr[a:]\n",
    "        ans1=bin_search(l1,val)\n",
    "        ans2=bin_search(l2,val)\n",
    "        if ans1!=-1:\n",
    "            return ans1\n",
    "        elif ans2!=-1:\n",
    "            return a+ans2\n",
    "        else:\n",
    "            return -1      # element no in the list\n",
    "    else:\n",
    "        return bin_search(arr,val)\n",
    "       \n",
    "arr=[5,7,8,9,1,2,3,4]      \n",
    "val=3\n",
    "print(search_val_rotated(arr,val))\n",
    "        \n",
    "        \n",
    "        "
   ]
  },
  {
   "cell_type": "markdown",
   "metadata": {},
   "source": [
    "##### Question8) find element in merely sorted array\n",
    ">merely sorted array means the actual position of element may be i,i+1 or i-1"
   ]
  },
  {
   "cell_type": "code",
   "execution_count": 62,
   "metadata": {},
   "outputs": [
    {
     "name": "stdout",
     "output_type": "stream",
     "text": [
      "2\n"
     ]
    }
   ],
   "source": [
    "def merely_sort_search(arr,val):\n",
    "    start=0\n",
    "    end=len(arr)-1\n",
    "    while start<=end:\n",
    "        mid=(start+end)//2\n",
    "        if arr[mid]==val:\n",
    "            return mid\n",
    "        if arr[mid-1]== val  and arr[mid-1]>arr[start]:\n",
    "            return mid-1\n",
    "        if arr[mid+1]==val and  arr[mid-1]<arr[end]:\n",
    "            return mid+1\n",
    "        if val>arr[mid]:\n",
    "            start=mid+2\n",
    "        if val<arr[mid]:\n",
    "            end=mid-2\n",
    "    return -1\n",
    "\n",
    "arr=[2,1,3,4,5,6,7,8,9]\n",
    "val=3\n",
    "print(merely_sort_search(arr,val))\n",
    "              "
   ]
  },
  {
   "cell_type": "markdown",
   "metadata": {},
   "source": [
    "##### Question9) Find floored element in sorted array  (imp)\n",
    "-->floored means nearst minimum element to given val"
   ]
  },
  {
   "cell_type": "code",
   "execution_count": 67,
   "metadata": {},
   "outputs": [
    {
     "name": "stdout",
     "output_type": "stream",
     "text": [
      "4\n"
     ]
    }
   ],
   "source": [
    "def floored_val(arr,val):\n",
    "    start=0\n",
    "    end=len(arr)-1\n",
    "    while start<=end:\n",
    "        mid=(start+end)//2\n",
    "        if val==arr[mid]:\n",
    "            return arr[mid]\n",
    "        elif val>arr[mid]:\n",
    "            res=arr[mid]\n",
    "            start=mid+1\n",
    "        else:\n",
    "            end=mid-1\n",
    "    return res\n",
    "\n",
    "\n",
    "\n",
    "arr=[1,2,3,4,6,7,8,9]\n",
    "val=5\n",
    "print(floored_val(arr,val))"
   ]
  },
  {
   "cell_type": "markdown",
   "metadata": {},
   "source": [
    "##### Question10) find the cieled element in the sorted array  (imp)"
   ]
  },
  {
   "cell_type": "code",
   "execution_count": 72,
   "metadata": {},
   "outputs": [
    {
     "name": "stdout",
     "output_type": "stream",
     "text": [
      "1\n"
     ]
    }
   ],
   "source": [
    "def cieled_element(arr,val):\n",
    "    start=0\n",
    "    end=len(arr)-1\n",
    "    while start<=end:\n",
    "        mid=(start+end)//2\n",
    "        if val==arr[mid]:\n",
    "            return arr[mid]\n",
    "        elif val>arr[mid]:\n",
    "            start=mid+1\n",
    "        elif val<arr[mid]:\n",
    "            res=arr[mid]\n",
    "            end=mid-1\n",
    "    return res\n",
    "\n",
    "arr=[1,2,3,4,6,7,8,9]\n",
    "val=1\n",
    "print(cieled_element(arr,val))\n",
    "        "
   ]
  },
  {
   "cell_type": "markdown",
   "metadata": {},
   "source": [
    "##### Question11)Next alphabetic order\n",
    "--> u are given sorted alphabatic order if any latter give u need to return next leter from given letter in that array"
   ]
  },
  {
   "cell_type": "code",
   "execution_count": 80,
   "metadata": {},
   "outputs": [
    {
     "name": "stdout",
     "output_type": "stream",
     "text": [
      "0\n"
     ]
    }
   ],
   "source": [
    "arr=['a','b','c','d','r']\n",
    "def alpha_order(arr,val):\n",
    "    start=0\n",
    "    end=len(arr)-1\n",
    "    res=0\n",
    "    while start<=end:\n",
    "        mid=(start+end)//2\n",
    "        if val==arr[mid]:\n",
    "            start=mid+1\n",
    "        elif val>arr[mid]:\n",
    "            start=mid+1\n",
    "        elif val<arr[mid]:\n",
    "            res=arr[mid]\n",
    "            end=mid-1\n",
    "            \n",
    "#     if res!=0:\n",
    "#         return res\n",
    "#     else:\n",
    "#         return -1\n",
    "    return res\n",
    "\n",
    "val='r'\n",
    "print(alpha_order(arr,val))\n",
    "        "
   ]
  },
  {
   "cell_type": "markdown",
   "metadata": {},
   "source": [
    "##### Q12) position of an element in infinitely sorted array"
   ]
  },
  {
   "cell_type": "code",
   "execution_count": 84,
   "metadata": {},
   "outputs": [
    {
     "name": "stdout",
     "output_type": "stream",
     "text": [
      "9\n"
     ]
    }
   ],
   "source": [
    "def val_inf_arr(arr,val):\n",
    "    start=0\n",
    "    end=1\n",
    "    while val>arr[end]:\n",
    "        start=end\n",
    "        end*=2\n",
    "        \n",
    "    while start<=end:\n",
    "        mid=(start+end)//2\n",
    "        if arr[mid]==val:\n",
    "            return mid\n",
    "        elif val>arr[mid]:\n",
    "            start=mid+1\n",
    "        else:\n",
    "            end=mid-1\n",
    "            \n",
    "    return -1\n",
    "\n",
    "arr=[i for i in range(1,1000)]\n",
    "val=50\n",
    "print(val_inf_arr(arr,10))"
   ]
  },
  {
   "cell_type": "markdown",
   "metadata": {},
   "source": [
    "##### Question13) Index of first one in infinite binary sorted array\n",
    "--> arr contain only ones and zeroes in sorted form u need to return the index first occurance of one"
   ]
  },
  {
   "cell_type": "code",
   "execution_count": 86,
   "metadata": {},
   "outputs": [
    {
     "name": "stdout",
     "output_type": "stream",
     "text": [
      "6\n"
     ]
    }
   ],
   "source": [
    "def first_one(arr,val):\n",
    "    res=-1\n",
    "    start=0\n",
    "    end=1\n",
    "    while val>arr[end]:\n",
    "        start=end\n",
    "        end*=2\n",
    "    while start<=end:\n",
    "        mid=(start+end)//2\n",
    "        if val==arr[mid]:\n",
    "            res=mid\n",
    "            end=mid-1\n",
    "        elif val>arr[mid]:\n",
    "            start=mid+1\n",
    "        else:\n",
    "            end=mid-1\n",
    "            \n",
    "    return res\n",
    "arr=[0,0,0,0,0,0,1,1,1,1,1,1]\n",
    "val=1\n",
    "print(first_one(arr,val))"
   ]
  },
  {
   "cell_type": "markdown",
   "metadata": {},
   "source": [
    "##### Q14)minimum difference element in array\n",
    "   return that element of whose absolute difference between val is minimum"
   ]
  },
  {
   "cell_type": "code",
   "execution_count": 90,
   "metadata": {},
   "outputs": [
    {
     "name": "stdout",
     "output_type": "stream",
     "text": [
      "15\n"
     ]
    }
   ],
   "source": [
    "def min_val(arr,val):\n",
    "    start=0\n",
    "    end=len(arr)-1\n",
    "    while start<=end:\n",
    "        mid=(start+end)//2\n",
    "        if arr[mid]==val:\n",
    "            return 0\n",
    "        elif val>arr[mid]:\n",
    "            start=mid+1\n",
    "        elif val<arr[mid]:\n",
    "            end=mid-1\n",
    "    if abs(arr[start]-arr[mid])<abs(arr[end]-arr[mid]):\n",
    "        return arr[start]\n",
    "    else:\n",
    "        return arr[end]\n",
    "            \n",
    "     \n",
    "    \n",
    "    \n",
    "    \n",
    "arr=[1,2,3,4,5,8,9,10,12,15,16]\n",
    "val=13\n",
    "\n",
    "print(min_val(arr,val))"
   ]
  },
  {
   "cell_type": "markdown",
   "metadata": {},
   "source": [
    "##### Question15) peak element\n",
    "--> given an array which is in such a way that elements value are initial ascendinf and then descending return the peak value which \n",
    "is greater than from previous also and next element also"
   ]
  },
  {
   "cell_type": "code",
   "execution_count": 95,
   "metadata": {},
   "outputs": [
    {
     "name": "stdout",
     "output_type": "stream",
     "text": [
      "8\n"
     ]
    }
   ],
   "source": [
    "def peak_elelemnt(arr):\n",
    "    start=0\n",
    "    end=len(arr)-1\n",
    "    while start<=end:\n",
    "        mid=(start+end)//2\n",
    "        if mid>0 and mid<len(arr)-1:\n",
    "            if arr[mid]>arr[mid-1]  and arr[mid]>arr[mid+1]:\n",
    "                return arr[mid]\n",
    "            elif arr[mid]<arr[mid+1]:\n",
    "                start=mid+1\n",
    "            elif arr[mid]>arr[mid+1]:\n",
    "                end=mid-1\n",
    "        if mid==0:\n",
    "            if arr[mid]>arr[mid+1]:\n",
    "                return arr[mid]\n",
    "            else:\n",
    "                return arr[mid+1]\n",
    "        if mid==len(arr)-1:\n",
    "            if arr[mid]>arr[mid-1]:\n",
    "                return arr[mid]\n",
    "            else:\n",
    "                return arr[mid-1]\n",
    "            \n",
    "            \n",
    "arr=[4,5,8,7,6,5,4,3,2,1]\n",
    "\n",
    "print(peak_elelemnt(arr))"
   ]
  },
  {
   "cell_type": "markdown",
   "metadata": {},
   "source": [
    "##### Q16) find maximum element in bitonic arry\n",
    " --> same as peak element problem but having only one peak element with no repeating elements in one tonic side"
   ]
  },
  {
   "cell_type": "code",
   "execution_count": 97,
   "metadata": {},
   "outputs": [
    {
     "name": "stdout",
     "output_type": "stream",
     "text": [
      "144\n"
     ]
    }
   ],
   "source": [
    "\n",
    "def bitonic_max(arr):\n",
    "    start=0\n",
    "    end=len(arr)-1\n",
    "    while start<=end:\n",
    "        mid=(start+end)//2\n",
    "        if  (mid>0) and (mid<len(arr)-1):\n",
    "            if (arr[mid]>arr[mid-1]) and (arr[mid]>arr[mid+1]):\n",
    "                return arr[mid]\n",
    "            if arr[mid+1]>arr[mid]:\n",
    "                start=mid+1\n",
    "            elif arr[mid-1]>arr[mid]:\n",
    "                end=mid-1\n",
    "        if mid==0:\n",
    "            if arr[mid]>arr[mid+1]:\n",
    "                return arr[mid]\n",
    "            else:\n",
    "                return arr[mid+1]\n",
    "        if mid==len(arr)-1:\n",
    "            if arr[mid]>arr[mid-1]:\n",
    "                return arr[mid]\n",
    "            else:\n",
    "                return arr[mid-1]\n",
    "            \n",
    "            \n",
    "            \n",
    "arr=[5,10,14,99,101,144,15]\n",
    "print(bitonic_max(arr))"
   ]
  },
  {
   "cell_type": "markdown",
   "metadata": {},
   "source": [
    "##### Q17) search element in bitonic sorted array\n",
    " -->first find peak element  then serch in sorted and reverse sorte array\n",
    " \n",
    " --> nothing but same as searching element in rotated and sorted array"
   ]
  },
  {
   "cell_type": "code",
   "execution_count": 98,
   "metadata": {},
   "outputs": [
    {
     "name": "stdout",
     "output_type": "stream",
     "text": [
      "5\n"
     ]
    }
   ],
   "source": [
    "def search_bitonic(arr,val):\n",
    "    def peak_element(arr):\n",
    "        start=0\n",
    "        end=len(arr)-1\n",
    "        while start<=end:\n",
    "            mid=(start+end)//2\n",
    "            if  (mid>0) and (mid<len(arr)-1):\n",
    "                if (arr[mid]>arr[mid-1]) and (arr[mid]>arr[mid+1]):\n",
    "                    return mid\n",
    "                if arr[mid+1]>arr[mid]:\n",
    "                    start=mid+1\n",
    "                elif arr[mid-1]>arr[mid]:\n",
    "                    end=mid-1\n",
    "            if mid==0:\n",
    "                if arr[mid]>arr[mid+1]:\n",
    "                    return mid\n",
    "                else:\n",
    "                    return mid+1\n",
    "            if mid==len(arr)-1:\n",
    "                if arr[mid]>arr[mid-1]:\n",
    "                    return mid\n",
    "                else:\n",
    "                    return mid-1\n",
    "                \n",
    "    a=peak_element(arr)\n",
    "    l1=arr[:a]\n",
    "    l2=arr[a:]\n",
    "    def b_search(l1,val):\n",
    "        start=0\n",
    "        end=len(l1)-1\n",
    "        while start<=end:\n",
    "            mid=(start+end)//2\n",
    "            if arr[mid]==val:\n",
    "                return mid\n",
    "            if val>arr[mid]:\n",
    "                start=mid+1\n",
    "            if val<arr[mid]:\n",
    "                end=mid-1\n",
    "        return -1\n",
    "    def b_r_search(arr,val):\n",
    "        start=0\n",
    "        end=len(l2)-1\n",
    "        while start<=end:\n",
    "            mid=(start+end)//2\n",
    "            if arr[mid]==val:\n",
    "                return mid\n",
    "            if val>arr[mid]:\n",
    "                end=mid-1\n",
    "            if val<arr[mid]:\n",
    "                start=mid+1\n",
    "        return -1\n",
    "    ans1=b_search(l1,val)\n",
    "    ans2=b_r_search(l2,val)\n",
    "    if ans1>-1:\n",
    "        return ans1\n",
    "    elif ans2>-1:\n",
    "        return a+ans2\n",
    "   \n",
    "            \n",
    "arr=[1,2,8,4,3,-5]   \n",
    "val=-5\n",
    "print(search_bitonic(arr,val))"
   ]
  },
  {
   "cell_type": "markdown",
   "metadata": {},
   "source": [
    "##### Question18) searching element in row wise and column wise sorted array--sd array"
   ]
  },
  {
   "cell_type": "code",
   "execution_count": 113,
   "metadata": {},
   "outputs": [
    {
     "name": "stdout",
     "output_type": "stream",
     "text": [
      "(2, 1)\n"
     ]
    }
   ],
   "source": [
    "\n",
    "arr=[[10,20,30,40],[15,25,35,45],[27,29,37,45],[32,33,39,50]]\n",
    "\n",
    "m=4\n",
    "n=4\n",
    "def two_d_search(arr,val):\n",
    "    i=0\n",
    "    j=n-1   #column-1\n",
    "    while i>=0 and i<m  and j>=0 and j<n:\n",
    "        if val==arr[i][j]:\n",
    "            return i,j\n",
    "        if val>arr[i][j]:\n",
    "            i+=1\n",
    "        elif val<arr[i][j]:\n",
    "            j-=1\n",
    "    return -1\n",
    "\n",
    "\n",
    "val=29\n",
    "print(two_d_search(arr,val))"
   ]
  },
  {
   "cell_type": "markdown",
   "metadata": {},
   "source": [
    "##### Question19) Allocate minimum number of pages\n",
    "problem statment--> Given array each element of array indicate number of pages in book four elements means 4 book each element indicate\n",
    "  individual book page numbers. u need to allocate books to each student such that\n",
    " each student will get at least one book\n",
    "student will get continous book \n",
    " ur task is to minimize the maximum page number recieved by student"
   ]
  },
  {
   "cell_type": "code",
   "execution_count": 114,
   "metadata": {},
   "outputs": [
    {
     "name": "stdout",
     "output_type": "stream",
     "text": [
      "99.0625\n"
     ]
    }
   ],
   "source": [
    "\n",
    "\n",
    "arr=[10,20,30,40]\n",
    "k=2\n",
    "\n",
    "def min_allocate(arr,k):\n",
    "    start=max(arr)\n",
    "    end=sum(arr)\n",
    "    res=-1\n",
    "    \n",
    "    while start<=end:\n",
    "        mid=start+(end-start)/2\n",
    "        def isvalid(arr,k,mid):\n",
    "            student=1\n",
    "            sm=0\n",
    "            for i in range(len(arr)):\n",
    "                sm+=arr[i]\n",
    "                if sm>mid:\n",
    "                    student+=1 \n",
    "                    sm=arr[i]\n",
    "            \n",
    "            if student==k:\n",
    "                return True\n",
    "            return False\n",
    "        if isvalid(arr,k,mid)== True:\n",
    "            res=mid\n",
    "            start=mid+1\n",
    "        else:\n",
    "            end=mid-1\n",
    "            \n",
    "    return res\n",
    "\n",
    "print(min_allocate(arr,k))\n"
   ]
  },
  {
   "cell_type": "code",
   "execution_count": null,
   "metadata": {},
   "outputs": [],
   "source": []
  }
 ],
 "metadata": {
  "kernelspec": {
   "display_name": "Python 3",
   "language": "python",
   "name": "python3"
  },
  "language_info": {
   "codemirror_mode": {
    "name": "ipython",
    "version": 3
   },
   "file_extension": ".py",
   "mimetype": "text/x-python",
   "name": "python",
   "nbconvert_exporter": "python",
   "pygments_lexer": "ipython3",
   "version": "3.8.3"
  }
 },
 "nbformat": 4,
 "nbformat_minor": 4
}
