{
 "cells": [
  {
   "cell_type": "markdown",
   "metadata": {},
   "source": [
    "##  Hacker rank greedy"
   ]
  },
  {
   "cell_type": "markdown",
   "metadata": {},
   "source": [
    "##### Q1) minimum absolute difference"
   ]
  },
  {
   "cell_type": "code",
   "execution_count": null,
   "metadata": {},
   "outputs": [],
   "source": [
    "def minimumAbsoluteDifference(arr):\n",
    "    least = max(max(arr), min(arr) * -1) * 2\n",
    "\n",
    "    arr = sorted(arr)\n",
    "\n",
    "    for i in range(0, math.ceil(len(arr) / 2)):\n",
    "\n",
    "        f = abs(arr[i] - arr[i + 1])\n",
    "\n",
    "        b = abs(arr[-(i + 1)] - arr[-(i + 2)])\n",
    "\n",
    "        if (least > min(f, b)):\n",
    "\n",
    "            least = min(f, b)\n",
    "\n",
    "            if (least == 0):\n",
    "\n",
    "                return 0\n",
    "\n",
    "    return least"
   ]
  },
  {
   "cell_type": "markdown",
   "metadata": {},
   "source": [
    "## Greedy from geeks for geeks"
   ]
  },
  {
   "cell_type": "markdown",
   "metadata": {},
   "source": [
    "#### Q1) message spreading problem\n",
    ">problem statment --> there are n students everey one have there one own story  each can sent \n",
    "to only one addresssee so what is the minimum number of messages to confirm the all story reaches evereyone"
   ]
  },
  {
   "cell_type": "code",
   "execution_count": null,
   "metadata": {},
   "outputs": [],
   "source": [
    "\n",
    "T= int(input())\n",
    "for i in range(T):\n",
    "    m=int(input())\n",
    "    print(2*(m-1))"
   ]
  },
  {
   "cell_type": "markdown",
   "metadata": {},
   "source": [
    "#### Q2)ishan loves chocolate\n",
    ">problem statment-----> given chocolate array, at a time he can chose the chaocolate at \n",
    "either end what is the last chaocolate he left ,always he used to preffere highest one"
   ]
  },
  {
   "cell_type": "code",
   "execution_count": 3,
   "metadata": {},
   "outputs": [
    {
     "name": "stdout",
     "output_type": "stream",
     "text": [
      "1\n",
      "1\n"
     ]
    }
   ],
   "source": [
    "\n",
    "\n",
    "chack=[10,4,5,6,8,1,2,5]\n",
    "\n",
    "while len(chack)!=1:\n",
    "    if chack[0]>chack[-1]:\n",
    "        chack.pop(0)\n",
    "        \n",
    "    else:\n",
    "        chack.pop(-1)\n",
    "print(chack[0])\n",
    "\n",
    "# -----------------------------------------------always return min(arr)------------------------------\n",
    "\n",
    "print(min(chack))\n"
   ]
  },
  {
   "cell_type": "markdown",
   "metadata": {},
   "source": [
    "#### Q3)minimize the sum of product where shufffling is allowed\n",
    ">problem statment---> Given two array sum(product of corresponding elements )  what is the possible minimum sum? "
   ]
  },
  {
   "cell_type": "code",
   "execution_count": 5,
   "metadata": {},
   "outputs": [
    {
     "name": "stdout",
     "output_type": "stream",
     "text": [
      "1\n",
      "4\n",
      "4 5 6 8 9\n",
      "4 5 2 3 6\n",
      "115\n"
     ]
    }
   ],
   "source": [
    "\n",
    "T=int(input())\n",
    "for i in range(T):\n",
    "    n=int(input())\n",
    "    A=list(map(int,input().split()))\n",
    "    B=list(map(int,input().split()))\n",
    "    A.sort()\n",
    "    B.sort(reverse=True)\n",
    "    m=zip(A,B)\n",
    "    ans=[ i[0]*i[1] for i in m]\n",
    "    print(sum(ans))"
   ]
  },
  {
   "cell_type": "markdown",
   "metadata": {},
   "source": [
    "#### Q4)swap and maximize\n",
    ">problem_statment-->after re arrang we want maximum sum of difference between adjacent elements.\n",
    "last element difference with first elelment(circular array)"
   ]
  },
  {
   "cell_type": "code",
   "execution_count": 3,
   "metadata": {},
   "outputs": [
    {
     "name": "stdout",
     "output_type": "stream",
     "text": [
      "1\n",
      "5\n",
      "1 2 3 4 5\n",
      "12\n"
     ]
    }
   ],
   "source": [
    "\n",
    "\n",
    "\n",
    "def maxSum(arr, n): \n",
    "    sum = 0\n",
    "  \n",
    "    # Sorting the array \n",
    "    arr.sort() \n",
    "  \n",
    "    # Subtracting a1, a2, a3,....., a(n/2)-1, a(n/2) \n",
    "    # twice and adding a(n/2)+1, a(n/2)+2, a(n/2)+3,. \n",
    "    # ...., an - 1, an twice. \n",
    "    for i in range(0, int(n / 2)) : \n",
    "        sum -= (2 * arr[i])                                             \n",
    "        sum += (2 * arr[n - i - 1]) \n",
    "  \n",
    "    return sum\n",
    "\n",
    "   \n",
    "    \n"
   ]
  },
  {
   "cell_type": "code",
   "execution_count": 1,
   "metadata": {},
   "outputs": [
    {
     "name": "stdout",
     "output_type": "stream",
     "text": [
      "1\n",
      "7 2\n",
      "7 14 14 25 26 50 81\n",
      "35 157\n"
     ]
    }
   ],
   "source": [
    "# Q5) Shop in candy store\n",
    "# problem_statment--> Given candies and their prices if u buy one candy k candies will come for free.\n",
    "# then what is the minimum  and maximum amount to be spent in order to buy all candies\n",
    "T=int(input())\n",
    "N,K=list(map(int,input().split()))\n",
    "prices=list(map(int,input().split()))\n",
    "\n",
    "prices.sort()\n",
    "if len(prices)==1:\n",
    "    print(prices[0],prices[0])\n",
    "else:\n",
    "    m=0\n",
    "    i=0\n",
    "    while m<N:\n",
    "        m+=1\n",
    "        m+=K\n",
    "        i+=1\n",
    "    mn=sum(prices[:i])\n",
    "    mx=sum(prices[-1:-i-1:-1])\n",
    "    print(mn,mx)\n",
    "# mn=0"
   ]
  },
  {
   "cell_type": "code",
   "execution_count": null,
   "metadata": {},
   "outputs": [],
   "source": [
    "# Q6) Raju and  coins\n",
    "#  problem_statment-->raju have some coins, there are 10^9 coins in shop he want to buy some more different coins\n",
    "#  however he has only k rs the cost of ith coin is i\n",
    "# return how many different extra coins he can purrchase with k amount\n",
    "T=int(input())\n",
    "for i in range(T):\n",
    "    n,amount=list(map(int,input().split()))\n",
    "    coins=set(map(int,input().split()))\n",
    "    i=1\n",
    "    count=0\n",
    "    while amount>=i:\n",
    "        if i in coins:\n",
    "            i+=1\n",
    "        else:\n",
    "            i+=1\n",
    "            amount-=i\n",
    "            count+=1\n",
    "    print(count+1)"
   ]
  },
  {
   "cell_type": "code",
   "execution_count": 10,
   "metadata": {},
   "outputs": [
    {
     "name": "stdout",
     "output_type": "stream",
     "text": [
      "10\n"
     ]
    }
   ],
   "source": [
    "# Q7)page replacement method LRU algorithm\n",
    "# problem_statment--> Given page array and memory(int) return number of page faults using LRU algorithm\n",
    "# T=int(input())\n",
    "# for i in range(T):\n",
    "#     n=int(input())\n",
    "#     pages=list(map(int,input().split()))\n",
    "#     memory=int(input())\n",
    "pages=[0,1,2,0,3,0,4,23,0,3,2,1,2,0,1,7]\n",
    "memory=3\n",
    "# s=[]\n",
    "# fault=0\n",
    "# for i in pages:\n",
    "#     if i not in s:\n",
    "#         if len(s)==memory:\n",
    "#             s.remove(s[0])\n",
    "#             s.append(i)\n",
    "#         else:\n",
    "#             s.append(i)\n",
    "#         fault+=1\n",
    "#     else:\n",
    "#         s.remove(i)\n",
    "#         s.append(i)\n",
    "    \n",
    "                \n",
    "# print(fault)  \n",
    "    \n",
    "# # #   ------------------------------------------------------------------------------------------------  \n",
    "    \n",
    "# #  FIFO page replacement method-->\n",
    "# s=[]\n",
    "# fault=0\n",
    "# for i in pages:         # u need not change any thing if page already there in main memory\n",
    "    \n",
    "#     if i not in s:\n",
    "#         if len(s)==memeory:\n",
    "#             s.remove(s[0])               # because if new come first place remove if not remains same need not to update recent one\n",
    "#             s.append(i)\n",
    "#         else:\n",
    "#             s.append(i)\n",
    "#         fault+=1\n",
    "    \n",
    "# print(fault)        \n",
    "            \n",
    "# # -----------------------------------------------------------------------------------------------------------------\n",
    "# #  Optimal algorithm\n",
    "# # problem_statment-->  This method replce that page which is goint to use long time later in future\n",
    "s=[]\n",
    "fault=0\n",
    "for i in range(len(pages)):\n",
    "    if pages[i] not in s:\n",
    "        if len(s)==memory:\n",
    "            temp=[]                 # here also need not to do anything if page already there in main memory\n",
    "            for j in s:\n",
    "                if j not in pages[i+1:]:\n",
    "                    s[s.index(j)]=pages[i]\n",
    "                else:\n",
    "                    temp.append(pages[i+1:].index(j))\n",
    "            if len(temp)==len(s):\n",
    "                ans=temp.index(max(temp))\n",
    "                s[ans]=pages[i]\n",
    "        else:\n",
    "            s.append(pages[i])\n",
    "        fault+=1\n",
    "    \n",
    "            \n",
    "print(fault)       "
   ]
  },
  {
   "cell_type": "code",
   "execution_count": 22,
   "metadata": {},
   "outputs": [],
   "source": [
    "# Q8)Maximum sum of increasing order elements from n arrays\n",
    "# problem_statment-->Given n arrays of size m each. Find maximum sum obtained by \n",
    "# selecting a number from each array such that the element selected from the i-th array is more\n",
    "# than the element selected from (i-1)-th array. If maximum sum cannot be obtained then return 0.\n",
    "T=int(input())\n",
    "\n",
    "for i in range(T):\n",
    "    # z=0\n",
    "    l=[]\n",
    "    n,m=list(map(int,input().split()))\n",
    "    for j in range(n):\n",
    "        a=list(map(int,input().split()))\n",
    "        a.sort(reverse=True)\n",
    "        l.append(a)\n",
    "# n=3\n",
    "# l=[[7,4,3,1],[5,4,2,1],[9,8,5,1]]\n",
    "    ans=[l[-1][0]]\n",
    "    for p in range(n-2,-1,-1):\n",
    "        temp=[]\n",
    "        for x in l[p]:\n",
    "            if x<ans[-1]:\n",
    "                ans.append(x)\n",
    "                break\n",
    "    if len(ans)==n :\n",
    "        final=sum(ans)\n",
    "    else:\n",
    "        final=0\n",
    "    print(final)"
   ]
  },
  {
   "cell_type": "code",
   "execution_count": null,
   "metadata": {},
   "outputs": [],
   "source": [
    "# Q9) Geeks collects the ball------Not getting"
   ]
  },
  {
   "cell_type": "code",
   "execution_count": null,
   "metadata": {},
   "outputs": [],
   "source": [
    "# Q10)largest permutaion"
   ]
  },
  {
   "cell_type": "code",
   "execution_count": null,
   "metadata": {},
   "outputs": [],
   "source": [
    "# Q11)Hungry pizza lovers\n",
    "# Dominos Pizza has hungry customers waiting in queue. Each unique order ,i, is placed by a customer at time x[i], \n",
    "# and the order takes y[i] units of time to complete.You have information of all n orders, Find the order in which \n",
    "# all customers will receive their pizza and print it. If two or more orders are completed at same time then sort \n",
    "# them by non decreasing order number.\n",
    "\n",
    "\n",
    "T=int(input())\n",
    "for i in range(T):\n",
    "    order=int(input())\n",
    "    res1=[i  for i in range(1,order+1)]\n",
    "    xi=[]\n",
    "    yi=[]\n",
    "    for j in range(order):\n",
    "        x,y=list(map(int,input().split()))\n",
    "        xi.append(x)\n",
    "        yi.append(y)\n",
    "    res2=[xi[k]+yi[k] for k in range(len(xi))]\n",
    "    f_res=zip(res1,res2)\n",
    "    f=sorted(f_res,key=lambda m:m[1])\n",
    "    for l,p in f:\n",
    "        print(l)\n",
    "        "
   ]
  },
  {
   "cell_type": "code",
   "execution_count": null,
   "metadata": {},
   "outputs": [],
   "source": [
    "# Q12)coin pile"
   ]
  },
  {
   "cell_type": "code",
   "execution_count": null,
   "metadata": {},
   "outputs": [],
   "source": [
    "# Q13)minimum swap for bracket balancing\n",
    "#code\n",
    "# Python3 Program to count \n",
    "# swaps required to balance \n",
    "# string \n",
    "\n",
    "# Function to calculate \n",
    "# swaps required \n",
    "\n",
    "def swapCount(s):\n",
    "\n",
    "    # Keep track of '[' \n",
    "    pos = []\n",
    "#                                                                                                 # Not getting\n",
    "    for i in range(len(s)):\n",
    "        if(s[i] == '['):\n",
    "            pos.append(i)\n",
    "\n",
    "    # To count number \n",
    "    # of encountered '['         \n",
    "    count = 0\n",
    "    \n",
    "    # To track position \n",
    "    # of next '[' in pos \n",
    "    p = 0    \n",
    "    \n",
    "    # To store result \n",
    "    sum = 0        \n",
    "    s = list(s)\n",
    "    \n",
    "    for i in range(len(s)):\n",
    "\n",
    "        # Increment count and \n",
    "        # move p to next position \n",
    "        if(s[i] == '['):\n",
    "            count += 1\n",
    "            p += 1\n",
    "        elif(s[i] == ']'):\n",
    "            count -= 1\n",
    "\n",
    "        # We have encountered an \n",
    "        # unbalanced part of string \n",
    "        if(count < 0):\n",
    "          \n",
    "            # Increment sum by number \n",
    "            # of swaps required \n",
    "            # i.e. position of next \n",
    "            # '[' - current position \n",
    "            sum += pos[p] - i\n",
    "            s[i], s[pos[p]] = (s[pos[p]], \n",
    "                               s[i])\n",
    "            p += 1\n",
    "\n",
    "            # Reset count to 1 \n",
    "            count = 1\n",
    "    return sum\n",
    "\n",
    "# # Driver code \n",
    "# s = \"[]][][\"\n",
    "# print(swapCount(s))\n",
    "\n",
    "# s = \"[[][]]\"\n",
    "# print(swapCount(s))\n",
    "\n",
    "# This code is contributed by avanitrachhadiya2155T=int(input())\n",
    "T=int(input())\n",
    "for i in range(T):\n",
    "    n=int(input())\n",
    "    s=input()\n",
    "    print(swapCount(s))\n"
   ]
  },
  {
   "cell_type": "markdown",
   "metadata": {},
   "source": [
    "#### Q14)Sum of upper and lower triangles\n",
    "problem statment:\n",
    "> Given a square matrix of size N*N, print the sum of upper and lower triangular elements.Upper Triangle consists of elements on the diagonal and above it. The lower triangle consists of elements on the diagonal and below it.\n",
    "Input:\n",
    "N = 3 \n",
    "mat[][] = {{6, 5, 4},\n",
    "           {1, 2, 5}\n",
    "           {7, 9, 7}}\n",
    "Output: 29 32"
   ]
  },
  {
   "cell_type": "code",
   "execution_count": null,
   "metadata": {},
   "outputs": [],
   "source": []
  },
  {
   "cell_type": "markdown",
   "metadata": {},
   "source": [
    "#### Q15)Given the maximum possible area of the right angle triangle \n",
    ">for a fixed length of hypotenuse. The task is to find the length of hypotenuse."
   ]
  },
  {
   "cell_type": "markdown",
   "metadata": {},
   "source": [
    "#### Hint:- all triables in hemicircle are right angle triangles only"
   ]
  },
  {
   "cell_type": "markdown",
   "metadata": {},
   "source": [
    "Q16)Given a string str containing alphanumeric characters. The task is to calculate the \n",
    "sum of all the numbers present in the string.\n",
    "Input:\n",
    "str = 1abc23\n",
    "Output: 24\n",
    "Explanation: 1 and 23 are numbers in the\n",
    "string which is added to get the sum as\n",
    "24.\n"
   ]
  },
  {
   "cell_type": "code",
   "execution_count": 13,
   "metadata": {},
   "outputs": [
    {
     "name": "stdout",
     "output_type": "stream",
     "text": [
      "24\n"
     ]
    }
   ],
   "source": [
    "\n",
    "def findSum(s):\n",
    "    #code here\n",
    "    temp='0'\n",
    "    sm=0\n",
    "    for i in s:\n",
    "        if i.isdigit():\n",
    "            temp+=i\n",
    "        else:\n",
    "            \n",
    "            sm+=int(temp)\n",
    "            temp='0'\n",
    "    return sm+int(temp)\n",
    "    \n",
    "s='1abc23'\n",
    "print(findSum(s))"
   ]
  },
  {
   "cell_type": "markdown",
   "metadata": {},
   "source": [
    "Q17)Given the value of n, we need to find the sum of the series where i-th term is sum of first i odd natural numbers.\n",
    "\n",
    "NOTE: Sum of the series 1 + (1+3) + (1+3+5) + (1+3+5+7) + …… + (1+3+5+7+…+(2n-1))"
   ]
  },
  {
   "cell_type": "code",
   "execution_count": 14,
   "metadata": {},
   "outputs": [
    {
     "name": "stdout",
     "output_type": "stream",
     "text": [
      "14\n"
     ]
    }
   ],
   "source": [
    "def sumOfTheSeries ( n):\n",
    "        # code here \n",
    "    l=[sum(range(1,2*i,2)) for i in range(1,n+1)]\n",
    "    return sum(l)\n",
    "\n",
    "n=3\n",
    "print(sumOfTheSeries ( n))\n"
   ]
  },
  {
   "cell_type": "markdown",
   "metadata": {},
   "source": [
    "Q18)The problem is to count all the possible paths from top left to bottom right of a MxN matrix with the constraints that from each cell you can either move to \n",
    "right or down.\n",
    "Input:\n",
    "M = 3 and N = 3\n",
    "Output: 6\n",
    "Explanation:\n",
    "Let the given input 3*3 matrix is filled \n",
    "as such:\n",
    "A B C\n",
    "D E F\n",
    "G H I\n",
    "The possible paths which exists to reach \n",
    "'I' from 'A' following above conditions \n",
    "are as follows:ABCFI, ABEHI, ADGHI, ADEFI, \n",
    "ADEHI, ABEFI"
   ]
  },
  {
   "cell_type": "code",
   "execution_count": null,
   "metadata": {},
   "outputs": [],
   "source": []
  },
  {
   "cell_type": "code",
   "execution_count": 25,
   "metadata": {},
   "outputs": [
    {
     "name": "stdout",
     "output_type": "stream",
     "text": [
      "2\n",
      "3 10\n",
      "4 8 5 5 7 4\n",
      "7.857\n",
      "2 3\n",
      "1 2 3 4\n",
      "4.0\n"
     ]
    }
   ],
   "source": [
    "#code\n",
    "# Q019)\n",
    "T=int(input())\n",
    "for z in range(T):\n",
    "    N,C=map(int,input().split())\n",
    "    l=list(map(int,input().split()))\n",
    "    w= l[0:len(l):2]\n",
    "    val=l[1:len(l):2]\n",
    "    val_per_w=[val[k]/w[k] for k in range(len(val))]\n",
    "    f=sorted(zip(val_per_w,w),key=lambda x:x[0],reverse=True)\n",
    "    prof=0\n",
    "    sack=C\n",
    "    for m,n in f:\n",
    "        if sack==0:\n",
    "            break\n",
    "        elif n>=sack and not(n**0.5==int(n**0.5)):\n",
    "            prof+=sack*m\n",
    "            sack=0\n",
    "        elif n<sack and  not(n**0.5==int(n**0.5)):\n",
    "            prof+=m*n\n",
    "            sack-=n\n",
    "    print(round(prof,3))\n",
    "        \n",
    "    \n",
    "\n"
   ]
  },
  {
   "cell_type": "code",
   "execution_count": 38,
   "metadata": {},
   "outputs": [
    {
     "name": "stdout",
     "output_type": "stream",
     "text": [
      "-1\n",
      "-2\n",
      "-3\n",
      "-4\n"
     ]
    }
   ],
   "source": [
    "# Q20)coin pile\n",
    "#code\n",
    "T=int(input())\n",
    "for i in range(T):\n",
    "    N,K=map(int,input().split())\n",
    "    pile=list(map(int,input().split()))\n",
    "    pile=sorted(pile)\n",
    "    \n",
    "    res=[]\n",
    "    \n",
    "    for m in range(len(pile)):\n",
    "        a=pile[m]\n",
    "        temp=0\n",
    "        for j in range(-1,-(len(pile)-m)-1,-1):\n",
    "            if pile[j]-a>K:\n",
    "                temp+=pile[j]-a-K\n",
    "            else:\n",
    "                break\n",
    "        res.append(sum(pile[0:m])+temp)\n",
    "    print(min(res))\n",
    "        \n",
    "            "
   ]
  },
  {
   "cell_type": "markdown",
   "metadata": {},
   "source": [
    "Q21)Given a sorted array having 10 elements which contains 6 different numbers in which only 1 number is repeated five times. Your task is to find the duplicate number using two comparisons only.\n",
    "\n",
    "Examples:\n",
    "\n",
    "Input: A[] = {1, 1, 1, 1, 1, 5, 7, 10, 20, 30}\n",
    "Output: 1\n",
    "\n",
    "Input: A[] = {1, 2, 3, 3, 3, 3, 3, 5, 9, 10}\n",
    "Output: 3"
   ]
  },
  {
   "cell_type": "code",
   "execution_count": null,
   "metadata": {},
   "outputs": [],
   "source": [
    "T=int(input())\n",
    "for i in range(T):\n",
    "    l=list(map(int,input().split()))\n",
    "    if l[0]==l[1]:\n",
    "        print(l[0])\n",
    "    elif l[-1]==l[-3]:\n",
    "        print(l[-1])\n",
    "    else:\n",
    "        print(l[2])"
   ]
  },
  {
   "cell_type": "code",
   "execution_count": 35,
   "metadata": {},
   "outputs": [
    {
     "ename": "TypeError",
     "evalue": "unsupported operand type(s) for -: 'list' and 'list'",
     "output_type": "error",
     "traceback": [
      "\u001b[1;31m---------------------------------------------------------------------------\u001b[0m",
      "\u001b[1;31mTypeError\u001b[0m                                 Traceback (most recent call last)",
      "\u001b[1;32m<ipython-input-35-94d38fc04438>\u001b[0m in \u001b[0;36m<module>\u001b[1;34m\u001b[0m\n\u001b[0;32m      1\u001b[0m \u001b[0ma\u001b[0m\u001b[1;33m=\u001b[0m\u001b[1;33m[\u001b[0m\u001b[1;36m1\u001b[0m\u001b[1;33m,\u001b[0m\u001b[1;36m1\u001b[0m\u001b[1;33m,\u001b[0m\u001b[1;36m2\u001b[0m\u001b[1;33m]\u001b[0m\u001b[1;33m\u001b[0m\u001b[1;33m\u001b[0m\u001b[0m\n\u001b[0;32m      2\u001b[0m \u001b[0mb\u001b[0m\u001b[1;33m=\u001b[0m\u001b[1;33m[\u001b[0m\u001b[1;36m1\u001b[0m\u001b[1;33m,\u001b[0m\u001b[1;36m2\u001b[0m\u001b[1;33m]\u001b[0m\u001b[1;33m\u001b[0m\u001b[1;33m\u001b[0m\u001b[0m\n\u001b[1;32m----> 3\u001b[1;33m \u001b[0ma\u001b[0m\u001b[1;33m-\u001b[0m\u001b[0mb\u001b[0m\u001b[1;33m\u001b[0m\u001b[1;33m\u001b[0m\u001b[0m\n\u001b[0m",
      "\u001b[1;31mTypeError\u001b[0m: unsupported operand type(s) for -: 'list' and 'list'"
     ]
    }
   ],
   "source": [
    "Q22)\n",
    "Method 2 (Efficient):\n",
    "1) Find the sum array elements. If sum % n is not 0, return -1.\n",
    "2) Compute average or equalized value as eq = sum/n\n",
    "3) Traverse the array. For every element arr[i] compute absolute value of difference between eq and arr[i]. And keep track of sum of these differences. Let this sum be diff_sum.\n",
    "4) Return diff_sum / 2.\n",
    "\n",
    "5\n",
    "1 3 2 0 4"
   ]
  },
  {
   "cell_type": "code",
   "execution_count": 2,
   "metadata": {},
   "outputs": [
    {
     "name": "stdout",
     "output_type": "stream",
     "text": [
      "3.0\n"
     ]
    }
   ],
   "source": [
    "n=5\n",
    "l=[1,3,2,0,4]\n",
    "if sum(l)%n!=0:\n",
    "    print(-1)\n",
    "else:\n",
    "    eq=sum(l)/n\n",
    "    sm=0\n",
    "    for i in l:\n",
    "        sm+=abs(eq-l[i])\n",
    " \n",
    "\n",
    "print(sm/2)"
   ]
  },
  {
   "cell_type": "markdown",
   "metadata": {},
   "source": [
    ">Q24)Given an array of n integers. Find minimum number to be inserted in array, so that sum o\n",
    "f all elements of array becomes prime. If sum is already prime, then return 0."
   ]
  },
  {
   "cell_type": "code",
   "execution_count": 10,
   "metadata": {},
   "outputs": [
    {
     "data": {
      "text/plain": [
       "True"
      ]
     },
     "execution_count": 10,
     "metadata": {},
     "output_type": "execute_result"
    }
   ],
   "source": [
    "def prime(num):\n",
    "    for i in range(2,num//2):\n",
    "        if num%i==0:\n",
    "            ans= False\n",
    "            break\n",
    "    else:\n",
    "        ans=True\n",
    "        \n",
    "    return ans\n",
    "    \n",
    "    \n",
    "    \n",
    "T=int(input())\n",
    "for j in range(T):\n",
    "    n=int(input())\n",
    "    l=list(map(int,input().split()))\n",
    "    if prime(sum(l))==True:\n",
    "        print(0)\n",
    "    else:\n",
    "        for k in range(1,sum(l)):\n",
    "            p=sum(l)+k\n",
    "            if prime(p)==True:\n",
    "                print(p-sum(l))\n",
    "                break\n",
    "    "
   ]
  },
  {
   "cell_type": "code",
   "execution_count": 17,
   "metadata": {},
   "outputs": [
    {
     "data": {
      "text/plain": [
       "[3, 9, 8, 7, 6, 4, 2, 1]"
      ]
     },
     "execution_count": 17,
     "metadata": {},
     "output_type": "execute_result"
    }
   ],
   "source": [
    "\n",
    "def rotate( arr, n):\n",
    "    a=[arr[-1]]+arr[0:len(arr)-1]\n",
    "    return a\n",
    "\n",
    "rotate([9, 8, 7, 6, 4, 2, 1, 3],8)"
   ]
  },
  {
   "cell_type": "markdown",
   "metadata": {},
   "source": [
    ">Q25) arrang given arry in wave form   # interview"
   ]
  },
  {
   "cell_type": "code",
   "execution_count": 19,
   "metadata": {},
   "outputs": [
    {
     "data": {
      "text/plain": [
       "[2, 1, 4, 3, 5]"
      ]
     },
     "execution_count": 19,
     "metadata": {},
     "output_type": "execute_result"
    }
   ],
   "source": [
    "  def convertToWave(A,N):\n",
    "        A.sort()\n",
    "        i=0\n",
    "        while i<len(A)-1:\n",
    "            A[i],A[i+1]=A[i+1],A[i]\n",
    "            i+=2\n",
    "        \n",
    "        return A\n",
    "            \n",
    "\n",
    "    \n",
    "    \n",
    "convertToWave([1,2,3,4,5],5)"
   ]
  },
  {
   "cell_type": "markdown",
   "metadata": {},
   "source": [
    "#### WAP to find whether the given number is prime or not?"
   ]
  },
  {
   "cell_type": "code",
   "execution_count": 5,
   "metadata": {},
   "outputs": [
    {
     "data": {
      "text/plain": [
       "'Non Prime'"
      ]
     },
     "execution_count": 5,
     "metadata": {},
     "output_type": "execute_result"
    }
   ],
   "source": [
    "def prime(num):\n",
    "    for i in range(2,num//2):\n",
    "        if num%i==0:\n",
    "            ans='Non Prime'\n",
    "            break\n",
    "        else:\n",
    "            ans='Prime'\n",
    "        \n",
    "    return ans\n",
    " \n",
    "    \n",
    "prime(70)"
   ]
  },
  {
   "cell_type": "markdown",
   "metadata": {},
   "source": [
    "#### >Q26) sort given arry whose values near to 50"
   ]
  },
  {
   "cell_type": "code",
   "execution_count": 7,
   "metadata": {},
   "outputs": [
    {
     "data": {
      "text/plain": [
       "[45, 58, 25, 91]"
      ]
     },
     "execution_count": 7,
     "metadata": {},
     "output_type": "execute_result"
    }
   ],
   "source": [
    "arr=[45,58,91,25]\n",
    "m=[abs(i-50) for i in arr]\n",
    "\n",
    "l=zip(arr,m)\n",
    "p=sorted(l,key=lambda x:x[-1])\n",
    "ans=[ i[0] for i in p]\n",
    "ans"
   ]
  },
  {
   "cell_type": "code",
   "execution_count": 10,
   "metadata": {},
   "outputs": [
    {
     "data": {
      "text/plain": [
       "'uvihs'"
      ]
     },
     "execution_count": 10,
     "metadata": {},
     "output_type": "execute_result"
    }
   ],
   "source": [
    "a='shivu'\n",
    "a[::-1]\n"
   ]
  },
  {
   "cell_type": "markdown",
   "metadata": {},
   "source": [
    "# OLD"
   ]
  },
  {
   "cell_type": "code",
   "execution_count": 8,
   "metadata": {},
   "outputs": [
    {
     "name": "stdout",
     "output_type": "stream",
     "text": [
      "3\n"
     ]
    }
   ],
   "source": [
    "# Q1)Given coin array and amount to be give to person wht is the minimum number of coins u will give to him (you can give same coin again and again)\n",
    "\n",
    "\n",
    "coin=[40,20,10,5]\n",
    "amount=35\n",
    "\n",
    "def minimum_coin(coin,amount):\n",
    "    i=0\n",
    "#     m=True\n",
    "    coin.sort(reverse=True)\n",
    "    count=0\n",
    "    while amount!=0:\n",
    "        if coin[i]<=amount:\n",
    "            count+=1\n",
    "            amount=amount-coin[i]\n",
    "        else:\n",
    "            i+=1\n",
    "    return count\n",
    "\n",
    "print(minimum_coin(coin,amount))\n",
    "      "
   ]
  },
  {
   "cell_type": "code",
   "execution_count": 9,
   "metadata": {},
   "outputs": [
    {
     "name": "stdout",
     "output_type": "stream",
     "text": [
      "1\n",
      "5\n",
      "8\n"
     ]
    }
   ],
   "source": []
  },
  {
   "cell_type": "code",
   "execution_count": 12,
   "metadata": {},
   "outputs": [
    {
     "name": "stdout",
     "output_type": "stream",
     "text": [
      "2\n"
     ]
    }
   ],
   "source": [
    "\n",
    "or"
   ]
  },
  {
   "cell_type": "code",
   "execution_count": null,
   "metadata": {},
   "outputs": [],
   "source": []
  },
  {
   "cell_type": "markdown",
   "metadata": {},
   "source": [
    "# ------------------------------------------------10/11/2020------------------------------------------------------"
   ]
  },
  {
   "cell_type": "code",
   "execution_count": null,
   "metadata": {},
   "outputs": [],
   "source": [
    "# Q5) what is the maximum leanght of chain \n",
    "def maxChainLen(Parr, n):\n",
    "    count=0\n",
    "    arr=sorted(Parr,key=lambda x:x[0],reverse=True)\n",
    "    i=0\n",
    "    j=1\n",
    "    while j<len(arr):\n",
    "        if arr[i][0]>arr[j][-1]:\n",
    "            count+=1\n",
    "        j+=1\n",
    "    return count\n",
    "\n",
    "Parr=[(5,24),(39,60),(15,28),(27,40),(50,90)]\n",
    "n=5\n",
    "print(maxChainLen(Parr, n))"
   ]
  },
  {
   "cell_type": "code",
   "execution_count": null,
   "metadata": {},
   "outputs": [],
   "source": [
    "# Q6 minimum number of platforms needed? there are n numers of trains whose arrival time and departure times are given u need to return minimim number of platforms such that no train should wait\n",
    "\n",
    "\n",
    "n=6\n",
    "arr=[900,940,950,1100,1500,1800]\n",
    "dep=[910,1200,1120,1130,1900,2000]\n",
    "def minimumPlatform(n,arr,dep):\n",
    "    '''\n",
    "    :param n: number of activities\n",
    "    :param arr: arrival time of trains\n",
    "    :param dep: corresponding departure time of trains\n",
    "    :return: Integer, minimum number of platforms needed\n",
    "    '''\n",
    "\n",
    "    platform = 1  # number of required platforms\n",
    "\n",
    "    order = [] # stores pair with value as time of event and key is 1 for departure and 0 for arrival.\n",
    "\n",
    "    for i in range(n):\n",
    "        order.append([arr[i],0]) # arrival time\n",
    "        order.append([dep[i],1]) # departure time\n",
    "\n",
    "    # sort the order list, first according to time\n",
    "    # if time is same for two events , than arrival comes first,followed by departure\n",
    "    order = sorted(order, key= lambda x: (x[0],x[1]))\n",
    "\n",
    "    # traverse one by one, if arr inc temp count else decrease it\n",
    "    temp_required = 0 # temp requirement of platforms\n",
    "    for i in range(2*n):\n",
    "        if order[i][1]==0: # arrival\n",
    "            temp_required+=1\n",
    "            platform=max(platform,temp_required)\n",
    "        else:\n",
    "#             if(temp_required):\n",
    "            temp_required-=1 # decrease temp count by one for departure\n",
    "\n",
    "    return platform # return answer\n",
    "    \n",
    "    \n",
    "print(minimumPlatform(n,arr,dep))"
   ]
  },
  {
   "cell_type": "markdown",
   "metadata": {},
   "source": [
    "# -----------------------------------11/11/2020----------------------------------"
   ]
  },
  {
   "cell_type": "code",
   "execution_count": null,
   "metadata": {},
   "outputs": [],
   "source": []
  },
  {
   "cell_type": "code",
   "execution_count": 11,
   "metadata": {},
   "outputs": [
    {
     "name": "stdout",
     "output_type": "stream",
     "text": [
      "18\n"
     ]
    }
   ],
   "source": [
    "# Q7) Given a number S and number of digits D u need to return the that number\n",
    "# which contain D digits and whose sum== S as well as that should be the minimum one\n",
    "def smallestNumber (S,D):\n",
    "        # code here \n",
    "        if S==0 and D==1:\n",
    "            return 0\n",
    "        elif S>9*D:\n",
    "            return -1\n",
    "        else:\n",
    "            S-=1\n",
    "            m=[0 for i in range(D)]\n",
    "            for i in range(D-1,0,-1):\n",
    "                \n",
    "                if S>9:\n",
    "                    m[i]=9\n",
    "                    S-=9\n",
    "                else:\n",
    "                    m[i]=S\n",
    "                    S=0\n",
    "            m[0]=S+1\n",
    "            \n",
    "            z=''\n",
    "            for i in m[0:len(m)]:\n",
    "                z+=str(i)\n",
    "                \n",
    "            return int(z)\n",
    "        \n",
    "print(smallestNumber(9,2))"
   ]
  },
  {
   "cell_type": "code",
   "execution_count": 20,
   "metadata": {},
   "outputs": [
    {
     "name": "stdout",
     "output_type": "stream",
     "text": [
      "[10, 20, 30]\n",
      "[60, 100, 120]\n",
      "[6.0, 5.0, 4.0]\n",
      "240.0\n"
     ]
    }
   ],
   "source": [
    "# Q8)fractional knapsack---------------> interesting one\n",
    "\n",
    "\n",
    "W=50\n",
    "n=3\n",
    "arr=[60,10,100,20,120,30]\n",
    "wt=[]\n",
    "val=[]\n",
    "for i in range(n):\n",
    "    val.append(arr[2*i])\n",
    "    wt.append(arr[(2*i)+1])\n",
    "print(wt)\n",
    "print(val)\n",
    "pr_per_wt=[val[i]/wt[i] for i in range(len(wt))]\n",
    "print(pr_per_wt)\n",
    "m=zip(wt,pr_per_wt)\n",
    "ans=sorted(m,key=lambda x:x[1],reverse=True)\n",
    "sm=0\n",
    "for i in ans:\n",
    "    if i[0]<W:\n",
    "        sm+=i[0]*i[1]\n",
    "        W-=i[0]\n",
    "        if W==0:\n",
    "            break\n",
    "    else:\n",
    "        sm+=W*i[1]\n",
    "        break\n",
    "        \n",
    "        \n",
    "print(sm)"
   ]
  },
  {
   "cell_type": "markdown",
   "metadata": {},
   "source": [
    "# ------------------------------------12/11/2020--------------------------------------\n"
   ]
  },
  {
   "cell_type": "code",
   "execution_count": 1,
   "metadata": {},
   "outputs": [
    {
     "name": "stdout",
     "output_type": "stream",
     "text": [
      "4\n"
     ]
    }
   ],
   "source": [
    "# Q9)activity selection problem\n",
    "# problem statment----> given n number of tasks whose starting time and ending time are given a person can do a task at a time what is maximum numbers of tasks he can do?\n",
    "\n",
    "def maximumActivities(n,start,end):\n",
    "    '''\n",
    "    :param n: number of activities\n",
    "    :param start: start time of activities\n",
    "    :param end: corresponding end time of activities\n",
    "    :return: Integer, maximum number of activities\n",
    "    '''\n",
    "    # code here\n",
    "    m=zip(start,end)\n",
    "    m=sorted(m,key=lambda x:x[1])\n",
    "    count=1\n",
    "    i=0\n",
    "    j=1\n",
    "    while j< len(m):\n",
    "        if m[i][1]<=m[j][0]:\n",
    "            count+=1\n",
    "            i=j\n",
    "            j+=1\n",
    "        else:\n",
    "            j+=1\n",
    "    return count\n",
    "\n",
    "\n",
    "print(maximumActivities(5,[1,3,2,5,8,5],[2,4,6,7,9,9]))"
   ]
  },
  {
   "cell_type": "code",
   "execution_count": 7,
   "metadata": {},
   "outputs": [
    {
     "name": "stdout",
     "output_type": "stream",
     "text": [
      "(2, 127)\n"
     ]
    }
   ],
   "source": [
    "# Q10)job scheduling\n",
    "# problem statment---> given jobs and their profit u need to maximize ur profit by doing job before its deadline return number of jobs and profit\n",
    "def JobScheduling(Jobs,n):\n",
    "  \n",
    "    # code here\n",
    "    m=[(Jobs[2*i],Jobs[(2*i)+1]) for i in range(len(Jobs)//2)]\n",
    "    m=sorted(m,key=lambda x:x[1],reverse=True)\n",
    "    ans=[0 for j in range(n+1)]\n",
    "    for k in m:                                                                                 #0 for deadline\n",
    "        for l in range(k[0],0,-1):\n",
    "            if ans[l]==0:\n",
    "                ans[l]=k[1]\n",
    "                break\n",
    "            \n",
    "    job=0\n",
    "    for i in ans:\n",
    "        if i>0:\n",
    "            job+=1\n",
    "    return (job,sum(ans))\n",
    "\n",
    "# Jobs = (1,2,100)(2,1,19)(3,2,27)\n",
    "Jobs=[2,100,1,19,2,27]\n",
    "# Jobs=[4, 20,  1, 10,  1, 40,  1, 30]\n",
    "n=3\n",
    "print(JobScheduling(Jobs,n))"
   ]
  },
  {
   "cell_type": "code",
   "execution_count": null,
   "metadata": {},
   "outputs": [],
   "source": [
    "#code\n",
    "# Q11)\n",
    "# problem sttatment----> same as fractional knapsack but whwenever item weight is of perfect square  u cant select that item\n",
    "T=int(input())\n",
    "for i in range(T):\n",
    "    N,W=list(map(int,input().split()))\n",
    "    # W=int(input())\n",
    "    pair=list(map(int,input().split()))\n",
    "    wt=[pair[2*k] for k in range(len(pair)//2)]\n",
    "    val=[pair[(2*l)+1] for l in range(len(pair)//2)]\n",
    "    val_pro=[val[z]/wt[z] for z in range(len(wt))]\n",
    "    sm=0\n",
    "    ans=zip(val,wt,val_pro)\n",
    "    ans=sorted(ans,key=lambda x:x[0],reverse=True)\n",
    "    while W!=0:\n",
    "        for i in ans:\n",
    "            if int(i[1]**0.5)==i[1]**0.5:\n",
    "                continue\n",
    "            elif i[1]<W:\n",
    "                sm+=i[1]*i[2]\n",
    "                W=W-i[1]\n",
    "            else:\n",
    "                sm+=W*i[2]\n",
    "                W=0\n",
    "        break\n",
    "    print(sm)"
   ]
  },
  {
   "cell_type": "markdown",
   "metadata": {},
   "source": [
    "# ------------------------------------13/11/2020---------------------------------------------"
   ]
  },
  {
   "cell_type": "code",
   "execution_count": 2,
   "metadata": {},
   "outputs": [
    {
     "name": "stdout",
     "output_type": "stream",
     "text": [
      "18\n"
     ]
    }
   ],
   "source": [
    "# Q12)swap and maximize\n",
    "# problem statment--->Given an array of n elements. \n",
    "# Consider array as circular array i.e element after an is a1. \n",
    "# The task is to find maximum sum of the difference between consecutive elements with rearrangement of array element allowed i.e \n",
    "# after rearrangement of element find |a1 – a2| + |a2 – a3| + …… + |an – 1– an| + |an – a1|\n",
    "\n",
    "def maxSum(A,n): \n",
    "    if len(A)==1:\n",
    "        return 0\n",
    "    else:\n",
    "        # sum = 0\n",
    "        l=[]\n",
    "        while len(A)!=0:\n",
    "            l.append(max(A))\n",
    "            A.pop(A.index(max(A)))\n",
    "            if A:\n",
    "                l.append(min(A))\n",
    "                A.pop(A.index(min(A)))\n",
    "                \n",
    "        l.append(l[0])\n",
    "        ans=[]\n",
    "        k=0\n",
    "        while k<len(l)-1:\n",
    "            ans.append(abs(l[k]-l[k+1]))\n",
    "            k+=1\n",
    "    return sum(ans)\n",
    "                \n",
    "    \n",
    "print(maxSum([4,2,1,8],4))"
   ]
  },
  {
   "cell_type": "code",
   "execution_count": 15,
   "metadata": {},
   "outputs": [
    {
     "name": "stdout",
     "output_type": "stream",
     "text": [
      "1\n",
      "4 2\n",
      "3 1 4 2\n",
      "3 7\n"
     ]
    }
   ],
   "source": [
    "# Q13)shop in a candy store\n",
    "# problem statment--->there are N candies with their unique price and also offer is there if u buy one candy k candies will give for free \n",
    "#  u need to return what is the minimum  and maximum amount to be paid to purchage all candy\n",
    "T=int(input())\n",
    "N,K=list(map(int,input().split()))\n",
    "prices=list(map(int,input().split()))\n",
    "\n",
    "prices.sort()\n",
    "mn=0\n",
    "mx=0\n",
    "i=0\n",
    "j=N-1\n",
    "while i<=j:\n",
    "    mn+=prices[i]\n",
    "    i+=1\n",
    "    j-=K\n",
    "    \n",
    "i=0\n",
    "j=N-1\n",
    "while i<=j:\n",
    "    mx+=prices[j]\n",
    "    i+=K\n",
    "    j-=1\n",
    "print(mn,mx)"
   ]
  },
  {
   "cell_type": "code",
   "execution_count": null,
   "metadata": {},
   "outputs": [],
   "source": [
    "# Q14)raju and coin \n",
    "# problem statment---> Raju always like to collect coins. Raju has already managed to collect n different types of coins a1,a2....an . One day he went into the sale and find out that the sale consists of 109 types of coins where i-th type of coin costs i dollars. He decided to buy some more different types of coins given that he does not have that type of coin already. But he has only k dollars to spend.\n",
    "# So help him to choose the type of coins.\n",
    "#code\n",
    "T=int(input())\n",
    "for i in range(T):\n",
    "    num,amount=list(map(int,input().split()))\n",
    "    coins=set(map(int,input().split()))\n",
    "    if amount==0:\n",
    "        print(0)\n",
    "    else:\n",
    "        count=0\n",
    "        for i in range(1,200001):\n",
    "            if i in coins :\n",
    "                continue\n",
    "            else:\n",
    "                if amount>i:\n",
    "                    count+=1\n",
    "                    amount-=i\n",
    "                    \n",
    "    print(count)\n",
    "    \n",
    "   \n",
    "            \n",
    "    # constaint is maximum types of coins is 10**9 thats why they can take only 200000 number of coins    \n"
   ]
  },
  {
   "cell_type": "code",
   "execution_count": 3,
   "metadata": {},
   "outputs": [
    {
     "name": "stdout",
     "output_type": "stream",
     "text": [
      "5\n"
     ]
    }
   ],
   "source": [
    "# Q15)maximize toys\n",
    "#  problem statment---> Given number of toys and their corresponding cost u need to return max number of toys u can buy with given cost\n",
    "def toyCount(N, K, arr):\n",
    "        # code here\n",
    "        count=0\n",
    "        arr.sort()\n",
    "        for i in arr:\n",
    "            if i<=K:\n",
    "                count+=1\n",
    "                K-=i\n",
    "        return count\n",
    "    \n",
    "    \n",
    "N=5\n",
    "K=50\n",
    "arr=[14,2,5,9,8,56,87]\n",
    "print(toyCount(N, K, arr))"
   ]
  },
  {
   "cell_type": "code",
   "execution_count": 4,
   "metadata": {},
   "outputs": [
    {
     "name": "stdout",
     "output_type": "stream",
     "text": [
      "960\n"
     ]
    }
   ],
   "source": [
    "# Q16)Largest number with given sum\n",
    "# problem statment--> A guy forget his locker possword , but he remember the number of digits in password and sum of the digits and he know that that is the largest numbet with given sum and digits \n",
    "#  return that number (password)\n",
    "def largestNum(n,s):\n",
    "    '''\n",
    "    :param n: length of given numberr\n",
    "    :param s: sum of digits of number\n",
    "    :return: Integer\n",
    "    '''\n",
    "    # code here\n",
    "    if s>n*9:\n",
    "        return -1\n",
    "    \n",
    "    \n",
    "    m=[0 for i in range(n)]\n",
    "    for j in range(n):\n",
    "        if s>=9:\n",
    "            m[j]=str(9)\n",
    "            s-=9\n",
    "        else:\n",
    "            m[j]=str(s)\n",
    "            s=0\n",
    "    ans=''.join(m)\n",
    "    return ans\n",
    "\n",
    "\n",
    "n=3\n",
    "s=15\n",
    "print(largestNum(n,s))"
   ]
  },
  {
   "cell_type": "code",
   "execution_count": 7,
   "metadata": {},
   "outputs": [
    {
     "name": "stdout",
     "output_type": "stream",
     "text": [
      "5\n"
     ]
    }
   ],
   "source": [
    "# Q17) minimize the number of operations to reach the number n from 0 by either increasing by one or double the number\n",
    "def  minOperation( n):\n",
    "    if n==0:\n",
    "        return 0\n",
    "    else:\n",
    "        count=0\n",
    "        while n!=0:\n",
    "            if n%2==0:\n",
    "                n=n/2\n",
    "                count+=1\n",
    "            else:\n",
    "                n-=1\n",
    "                count+=1\n",
    "    return count\n",
    "\n",
    "print( minOperation( 10))"
   ]
  },
  {
   "cell_type": "code",
   "execution_count": null,
   "metadata": {},
   "outputs": [],
   "source": [
    "# Q18)"
   ]
  },
  {
   "cell_type": "code",
   "execution_count": null,
   "metadata": {},
   "outputs": [],
   "source": []
  },
  {
   "cell_type": "code",
   "execution_count": null,
   "metadata": {},
   "outputs": [],
   "source": []
  },
  {
   "cell_type": "code",
   "execution_count": 2,
   "metadata": {},
   "outputs": [
    {
     "name": "stdout",
     "output_type": "stream",
     "text": [
      "1\n",
      "0\n"
     ]
    }
   ],
   "source": [
    "\n",
    "for i in range(1,-1,-1):\n",
    "    print(i)"
   ]
  },
  {
   "cell_type": "code",
   "execution_count": null,
   "metadata": {},
   "outputs": [],
   "source": [
    "100 2 500\n",
    "51 88"
   ]
  },
  {
   "cell_type": "code",
   "execution_count": 15,
   "metadata": {},
   "outputs": [
    {
     "name": "stdout",
     "output_type": "stream",
     "text": [
      "[100, 51, 88]\n"
     ]
    },
    {
     "data": {
      "text/plain": [
       "[100, 151, 339]"
      ]
     },
     "execution_count": 15,
     "metadata": {},
     "output_type": "execute_result"
    }
   ],
   "source": [
    "s=100\n",
    "s=[s]\n",
    "A=[51,88]\n",
    "lst=list(s)+A\n",
    "print(lst)\n",
    "i=0\n",
    "j=1\n",
    "while j<len(lst):\n",
    "    lst[j]=sum(lst[:i+1])+lst[j]\n",
    "    i=j\n",
    "    j+=1\n",
    "lst"
   ]
  },
  {
   "cell_type": "code",
   "execution_count": 22,
   "metadata": {},
   "outputs": [],
   "source": [
    "a=[4,5,6,7,8,9]\n",
    "# b=[i<5 for i in a]\n",
    "# list(filter(lambda i:i<=5,a))"
   ]
  },
  {
   "cell_type": "code",
   "execution_count": 23,
   "metadata": {},
   "outputs": [
    {
     "data": {
      "text/plain": [
       "1"
      ]
     },
     "execution_count": 23,
     "metadata": {},
     "output_type": "execute_result"
    }
   ],
   "source": [
    "a.count(4)"
   ]
  },
  {
   "cell_type": "code",
   "execution_count": 13,
   "metadata": {},
   "outputs": [
    {
     "name": "stdout",
     "output_type": "stream",
     "text": [
      "[1, 1, 1, 1, 1]\n"
     ]
    }
   ],
   "source": [
    "a=[1,1,1,1,1]\n",
    "# a2=[a[0]]\n",
    "page_per_chap=[(i//3)+1 for i in a]\n",
    "# for i in range(1,len(a)):\n",
    "#     a2.append(a2[i-1]+a[i])\n",
    "    \n",
    "# print(a2)\n",
    "print(page_per_chap)"
   ]
  },
  {
   "cell_type": "code",
   "execution_count": null,
   "metadata": {},
   "outputs": [],
   "source": []
  },
  {
   "cell_type": "code",
   "execution_count": 14,
   "metadata": {},
   "outputs": [],
   "source": [
    "ans=[]\n",
    "start=1\n",
    "for i in range(len(a)):\n",
    "    end=a[i]+1\n",
    "    p=[]\n",
    "    c=0\n",
    "    for j in range(start,end):\n",
    "        p.append(j)\n",
    "        c+=1\n",
    "        if c==3 or j==end-1:\n",
    "            ans.append(p)\n",
    "            p=[]\n",
    "            c=0\n",
    "    start=end\n",
    "            \n",
    "    "
   ]
  },
  {
   "cell_type": "code",
   "execution_count": 15,
   "metadata": {},
   "outputs": [
    {
     "data": {
      "text/plain": [
       "[[1]]"
      ]
     },
     "execution_count": 15,
     "metadata": {},
     "output_type": "execute_result"
    }
   ],
   "source": [
    "ans"
   ]
  },
  {
   "cell_type": "code",
   "execution_count": 16,
   "metadata": {},
   "outputs": [
    {
     "data": {
      "text/plain": [
       "[1]"
      ]
     },
     "execution_count": 16,
     "metadata": {},
     "output_type": "execute_result"
    }
   ],
   "source": [
    "f=[i for i in range(1,len(ans)+1)]\n",
    "f"
   ]
  },
  {
   "cell_type": "code",
   "execution_count": 17,
   "metadata": {},
   "outputs": [],
   "source": [
    "f_ans=0\n",
    "for i in range(len(f)):\n",
    "    if f[i] in ans[i]:\n",
    "        f_ans+=1"
   ]
  },
  {
   "cell_type": "code",
   "execution_count": 18,
   "metadata": {},
   "outputs": [
    {
     "data": {
      "text/plain": [
       "1"
      ]
     },
     "execution_count": 18,
     "metadata": {},
     "output_type": "execute_result"
    }
   ],
   "source": [
    "f_ans"
   ]
  },
  {
   "cell_type": "code",
   "execution_count": null,
   "metadata": {},
   "outputs": [],
   "source": []
  },
  {
   "cell_type": "markdown",
   "metadata": {},
   "source": [
    "### Q) Beautifull questions  (Hacker rank)"
   ]
  },
  {
   "cell_type": "code",
   "execution_count": 22,
   "metadata": {},
   "outputs": [
    {
     "name": "stdout",
     "output_type": "stream",
     "text": [
      "[1, 1, 2, 2]\n"
     ]
    },
    {
     "data": {
      "text/plain": [
       "[[1], [1], [1, 2, 3], [1, 2, 3], [4, 5]]"
      ]
     },
     "execution_count": 22,
     "metadata": {},
     "output_type": "execute_result"
    }
   ],
   "source": [
    "a=[1,1,3,5]\n",
    "# a2=[a[0]]\n",
    "page_per_chap=[(i//3)+1 for i in a]\n",
    "# for i in range(1,len(a)):\n",
    "#     a2.append(a2[i-1]+a[i])\n",
    "    \n",
    "# print(a2)\n",
    "print(page_per_chap)\n",
    "\n",
    "\n",
    "\n",
    "ans=[]\n",
    "# start=1\n",
    "for i in range(len(a)):\n",
    "    start=1\n",
    "    end=a[i]+1\n",
    "    p=[]\n",
    "    c=0\n",
    "    for j in range(start,end):\n",
    "        p.append(j)\n",
    "        c+=1\n",
    "        if c==3 or j==end-1:\n",
    "            ans.append(p)\n",
    "            p=[]\n",
    "            c=0\n",
    "    start=end\n",
    "    \n",
    "ans"
   ]
  },
  {
   "cell_type": "code",
   "execution_count": 23,
   "metadata": {},
   "outputs": [
    {
     "data": {
      "text/plain": [
       "3"
      ]
     },
     "execution_count": 23,
     "metadata": {},
     "output_type": "execute_result"
    }
   ],
   "source": [
    "f=[i for i in range(1,len(ans)+1)]\n",
    "f_ans=0\n",
    "for i in range(len(f)):\n",
    "    if f[i] in ans[i]:\n",
    "        f_ans+=1\n",
    "f_ans"
   ]
  },
  {
   "cell_type": "code",
   "execution_count": null,
   "metadata": {},
   "outputs": [],
   "source": []
  }
 ],
 "metadata": {
  "kernelspec": {
   "display_name": "Python 3",
   "language": "python",
   "name": "python3"
  },
  "language_info": {
   "codemirror_mode": {
    "name": "ipython",
    "version": 3
   },
   "file_extension": ".py",
   "mimetype": "text/x-python",
   "name": "python",
   "nbconvert_exporter": "python",
   "pygments_lexer": "ipython3",
   "version": "3.8.5"
  }
 },
 "nbformat": 4,
 "nbformat_minor": 4
}
